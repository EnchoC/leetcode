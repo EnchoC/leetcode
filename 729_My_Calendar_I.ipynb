{
 "cells": [
  {
   "cell_type": "markdown",
   "metadata": {},
   "source": [
    "https://leetcode.com/problems/my-calendar-i/"
   ]
  },
  {
   "cell_type": "raw",
   "metadata": {},
   "source": [
    "Implement a MyCalendar class to store your events. A new event can be added if adding the event will not cause a double booking.\n",
    "\n",
    "Your class will have the method, book(int start, int end). Formally, this represents a booking on the half open interval [start, end), the range of real numbers x such that start <= x < end.\n",
    "\n",
    "A double booking happens when two events have some non-empty intersection (ie., there is some time that is common to both events.)\n",
    "\n",
    "For each call to the method MyCalendar.book, return true if the event can be added to the calendar successfully without causing a double booking. Otherwise, return false and do not add the event to the calendar.\n",
    "\n",
    "Your class will be called like this: MyCalendar cal = new MyCalendar(); MyCalendar.book(start, end)\n",
    "Example 1:\n",
    "MyCalendar();\n",
    "MyCalendar.book(10, 20); // returns true\n",
    "MyCalendar.book(15, 25); // returns false\n",
    "MyCalendar.book(20, 30); // returns true\n",
    "Explanation: \n",
    "The first event can be booked.  The second can't because time 15 is already booked by another event.\n",
    "The third event can be booked, as the first event takes every time less than 20, but not including 20.\n",
    "Note:\n",
    "\n",
    "The number of calls to MyCalendar.book per test case will be at most 1000.\n",
    "In calls to MyCalendar.book(start, end), start and end are integers in the range [0, 10^9]."
   ]
  },
  {
   "cell_type": "markdown",
   "metadata": {},
   "source": [
    "#### 顺序查找法"
   ]
  },
  {
   "cell_type": "code",
   "execution_count": 47,
   "metadata": {},
   "outputs": [],
   "source": [
    "class MyCalendar(object):\n",
    "    def __init__(self):\n",
    "        self.lists = []\n",
    "    def book(self, start, end):\n",
    "        for i,(l,r) in enumerate(self.lists):\n",
    "            # bad_case: [start -> r -> l -> end]\n",
    "            if start < r and end > l:\n",
    "                return False\n",
    "            # true_case: [start -> end -> l -> r]\n",
    "            if start < l:\n",
    "                self.lists.insert(i, (start, end))\n",
    "                return True\n",
    "        self.lists.append((start, end))\n",
    "        return True"
   ]
  },
  {
   "cell_type": "markdown",
   "metadata": {},
   "source": [
    "#### 二分法"
   ]
  },
  {
   "cell_type": "code",
   "execution_count": 98,
   "metadata": {},
   "outputs": [],
   "source": [
    "# 换位运算版本\n",
    "import bisect\n",
    "class MyCalendar(object):\n",
    "    def __init__(self):\n",
    "        self.events = []\n",
    "    def book(self, start, end):\n",
    "        \"\"\"\n",
    "        :type start: int\n",
    "        :type end: int\n",
    "        :rtype: bool\n",
    "        \"\"\"\n",
    "        right_idx = bisect.bisect_right(self.events, start)\n",
    "        if right_idx < len(self.events) and (right_idx & 1 or end > self.events[right_idx]):\n",
    "            return False\n",
    "        self.events[right_idx:right_idx] = [start, end]\n",
    "        return True"
   ]
  },
  {
   "cell_type": "code",
   "execution_count": 99,
   "metadata": {},
   "outputs": [],
   "source": [
    "# used the bisect in pyhotn system.lib\n",
    "# 整除版本\n",
    "import bisect\n",
    "class MyCalendar(object):\n",
    "    def __init__(self):\n",
    "        self.lists = [] # list[int], event = [lists[0],lists[1]), [lists[2],lists[3])...\n",
    "    def book(self, start, end):\n",
    "        if end <= start: # error case\n",
    "            return False\n",
    "        i = bisect.bisect_right(self.lists, start)\n",
    "        if i % 2: # 如果为奇数的话，即属于中间项，即[上一个的开始项 -> start -> 上一个的结尾项]\n",
    "            return False\n",
    "        j = bisect.bisect_left(self.lists, end)\n",
    "        if i != j: # 如果对应位置左右索引不相同的话，也是属于中间项\n",
    "            return False\n",
    "        self.lists[i:i] = [start, end] # 多项插入\n",
    "        return True"
   ]
  },
  {
   "cell_type": "code",
   "execution_count": 94,
   "metadata": {},
   "outputs": [
    {
     "name": "stdout",
     "output_type": "stream",
     "text": [
      "[[47, 50], [33, 41], [39, 45], [33, 42], [25, 32], [26, 35], [19, 25], [3, 8], [8, 13], [18, 27]] \n",
      "[True, True, False, False, True, False, True, True, True, False]\n"
     ]
    }
   ],
   "source": [
    "obj = MyCalendar()\n",
    "result = []\n",
    "test = [[47,50],[33,41],[39,45],[33,42],[25,32],[26,35],[19,25],[3,8],[8,13],[18,27]]\n",
    "for [start,end] in test:\n",
    "    result.append(obj.book(start,end))\n",
    "print test,'\\n',result"
   ]
  }
 ],
 "metadata": {
  "kernelspec": {
   "display_name": "Python 2",
   "language": "python",
   "name": "python2"
  },
  "language_info": {
   "codemirror_mode": {
    "name": "ipython",
    "version": 2
   },
   "file_extension": ".py",
   "mimetype": "text/x-python",
   "name": "python",
   "nbconvert_exporter": "python",
   "pygments_lexer": "ipython2",
   "version": "2.7.15"
  }
 },
 "nbformat": 4,
 "nbformat_minor": 2
}
