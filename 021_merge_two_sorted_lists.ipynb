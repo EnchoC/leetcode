{
 "cells": [
  {
   "cell_type": "markdown",
   "metadata": {},
   "source": [
    "https://github.com/apachecn/awesome-algorithm/blob/master/docs/Leetcode_Solutions/Python/021._merge_two_sorted_lists.md"
   ]
  },
  {
   "cell_type": "raw",
   "metadata": {},
   "source": [
    "Merge two sorted linked lists and return it as a new list. The new list should be made by splicing together the nodes of the first two lists.\n",
    "\n",
    "Example:\n",
    "\n",
    "Input: 1->2->4, 1->3->4\n",
    "Output: 1->1->2->3->4->4"
   ]
  },
  {
   "cell_type": "code",
   "execution_count": 5,
   "metadata": {},
   "outputs": [],
   "source": [
    "# Definition for singly-linked list.\n",
    "## 递归\n",
    "class ListNode(object):\n",
    "    def __init__(self, x):\n",
    "        self.val = x\n",
    "        self.next = None\n",
    "\n",
    "class Solution(object):\n",
    "    def mergeTwoLists(self, a,b ):\n",
    "        \"\"\"\n",
    "        :type l1: ListNode\n",
    "        :type l2: ListNode\n",
    "        :rtype: ListNode\n",
    "        \"\"\"\n",
    "        if not a or not b:\n",
    "            return a or b\n",
    "        if a.val < b.val:\n",
    "            a.next = self.mergeTwoLists(a.next, b)\n",
    "            return a\n",
    "        else:\n",
    "            b.next = self.mergeTwoLists(a, b.next)\n",
    "            return b"
   ]
  },
  {
   "cell_type": "code",
   "execution_count": 6,
   "metadata": {},
   "outputs": [],
   "source": [
    "# 用其中一个来储存比较小的，再递归逐个获取"
   ]
  }
 ],
 "metadata": {
  "kernelspec": {
   "display_name": "Python 2",
   "language": "python",
   "name": "python2"
  },
  "language_info": {
   "codemirror_mode": {
    "name": "ipython",
    "version": 2
   },
   "file_extension": ".py",
   "mimetype": "text/x-python",
   "name": "python",
   "nbconvert_exporter": "python",
   "pygments_lexer": "ipython2",
   "version": "2.7.15"
  }
 },
 "nbformat": 4,
 "nbformat_minor": 2
}
