{
 "cells": [
  {
   "cell_type": "markdown",
   "metadata": {},
   "source": [
    "https://leetcode.com/problems/friend-circles/"
   ]
  },
  {
   "cell_type": "raw",
   "metadata": {},
   "source": [
    "There are N students in a class. Some of them are friends, while some are not. \n",
    "Their friendship is transitive in nature. For example, if A is a direct friend of B, \n",
    "and B is a direct friend of C, then A is an indirect friend of C. \n",
    "And we defined a friend circle is a group of students who are direct or indirect friends.\n",
    "\n",
    "Given a N*N matrix M representing the friend relationship between students in the class. \n",
    "If M[i][j] = 1, then the ith and jth students are direct friends with each other, \n",
    "otherwise not. And you have to output the total number of friend circles among all the students.\n",
    "\n",
    "Example 1:\n",
    "Input: \n",
    "[[1,1,0],\n",
    " [1,1,0],\n",
    " [0,0,1]]\n",
    "Output: 2\n",
    "Explanation:The 0th and 1st students are direct friends, so they are in a friend circle. \n",
    "The 2nd student himself is in a friend circle. So return 2.\n",
    "\n",
    "Example 2:\n",
    "Input: \n",
    "[[1,1,0],\n",
    " [1,1,1],\n",
    " [0,1,1]]\n",
    "Output: 1\n",
    "Explanation:The 0th and 1st students are direct friends, the 1st and 2nd students are direct friends, \n",
    "so the 0th and 2nd students are indirect friends. All of them are in the same friend circle, so return 1.\n",
    "\n",
    "Note:\n",
    "N is in range [1,200].\n",
    "M[i][i] = 1 for all students.\n",
    "If M[i][j] = 1, then M[j][i] = 1."
   ]
  },
  {
   "cell_type": "code",
   "execution_count": 2,
   "metadata": {},
   "outputs": [],
   "source": [
    "grid = [[1,0,0,1],[0,1,1,0],[0,1,1,1],[1,0,1,1]]"
   ]
  },
  {
   "cell_type": "code",
   "execution_count": 8,
   "metadata": {},
   "outputs": [
    {
     "name": "stdout",
     "output_type": "stream",
     "text": [
      "CPU times: user 25 µs, sys: 8 µs, total: 33 µs\n",
      "Wall time: 33.9 µs\n"
     ]
    },
    {
     "data": {
      "text/plain": [
       "1"
      ]
     },
     "execution_count": 8,
     "metadata": {},
     "output_type": "execute_result"
    }
   ],
   "source": [
    "# 使用深度优先搜索算法, 去掉所有找到的图的其他点, 只剩下一个头节点, 最后计算留下来的头结点的数量\n",
    "class Solution(object):\n",
    "    def findCircleNum(self, M):\n",
    "        \"\"\"\n",
    "        :type M: List[List[int]]\n",
    "        :rtype: int\n",
    "        \"\"\"\n",
    "        n = len(M)\n",
    "        students_out = [x for x in range(n)]\n",
    "\n",
    "        def _solve(i, j, visited):\n",
    "            if j in students_out:\n",
    "                students_out.remove(j)\n",
    "            else:\n",
    "                return\n",
    "            visited.add(i)\n",
    "            for k in range(n):\n",
    "                if k != j and (k not in visited) and M[j][k] == 1:\n",
    "                    _solve(j, k, visited)\n",
    "\n",
    "        index = 0\n",
    "        m = n\n",
    "        while index < m:\n",
    "            i = students_out[index]\n",
    "            for j in range(i + 1, n):\n",
    "                if M[i][j] == 1:\n",
    "                    _solve(i, j, set())\n",
    "            index += 1\n",
    "            m = len(students_out)\n",
    "\n",
    "        circle_friends = len(students_out)\n",
    "        return circle_friends\n",
    "model = Solution()\n",
    "%time model.findCircleNum(grid)"
   ]
  },
  {
   "cell_type": "code",
   "execution_count": 7,
   "metadata": {},
   "outputs": [
    {
     "name": "stdout",
     "output_type": "stream",
     "text": [
      "CPU times: user 19 µs, sys: 6 µs, total: 25 µs\n",
      "Wall time: 24.8 µs\n"
     ]
    },
    {
     "data": {
      "text/plain": [
       "1"
      ]
     },
     "execution_count": 7,
     "metadata": {},
     "output_type": "execute_result"
    }
   ],
   "source": [
    "class Solution(object):\n",
    "    def findCircleNum(self, grid):\n",
    "        \"\"\"\n",
    "        :type M: List[List[int]]\n",
    "        :rtype: int\n",
    "        \"\"\"\n",
    "        if not grid or not grid[0]:\n",
    "            return 0\n",
    "        n = len(grid)\n",
    "        count = 0\n",
    "        visited= set()\n",
    "        # 遍历所有行，浏览过则加入到visited，并次数加一\n",
    "        for i in range(n):\n",
    "            if i not in visited:\n",
    "                self.dfs(grid, i, n, visited)\n",
    "                count += 1\n",
    "        return count\n",
    "        \n",
    "    def dfs(self, grid, i, n, visited):\n",
    "        visited.add(i)\n",
    "        # 遍历所有列\n",
    "        for j in range(n):\n",
    "            if j not in visited and grid[i][j] == 1:\n",
    "                self.dfs(grid, j, n, visited)\n",
    "model = Solution()\n",
    "%time model.findCircleNum(grid)"
   ]
  },
  {
   "cell_type": "code",
   "execution_count": null,
   "metadata": {},
   "outputs": [],
   "source": []
  }
 ],
 "metadata": {
  "kernelspec": {
   "display_name": "Python2.7",
   "language": "python",
   "name": "python2.7"
  },
  "language_info": {
   "codemirror_mode": {
    "name": "ipython",
    "version": 2
   },
   "file_extension": ".py",
   "mimetype": "text/x-python",
   "name": "python",
   "nbconvert_exporter": "python",
   "pygments_lexer": "ipython2",
   "version": "2.7.15"
  }
 },
 "nbformat": 4,
 "nbformat_minor": 2
}
