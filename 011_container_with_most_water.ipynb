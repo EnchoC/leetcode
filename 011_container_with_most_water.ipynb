{
 "cells": [
  {
   "cell_type": "markdown",
   "metadata": {},
   "source": [
    "https://github.com/apachecn/awesome-algorithm/blob/master/docs/Leetcode_Solutions/Python/011._container_with_most_water.md"
   ]
  },
  {
   "cell_type": "markdown",
   "metadata": {},
   "source": [
    "https://leetcode.com/problems/container-with-most-water/submissions/"
   ]
  },
  {
   "cell_type": "raw",
   "metadata": {},
   "source": [
    "Given n non-negative integers a1, a2, ..., an , where each represents a point at coordinate (i, ai). n vertical lines are drawn such that the two endpoints of line i is at (i, ai) and (i, 0). Find two lines, which together with x-axis forms a container, such that the container contains the most water.\n",
    "\n",
    "Note: You may not slant the container and n is at least 2.\n",
    "\n",
    "The above vertical lines are represented by array [1,8,6,2,5,4,8,3,7]. In this case, the max area of water (blue section) the container can contain is 49.\n",
    "\n",
    "Example:\n",
    "\n",
    "Input: [1,8,6,2,5,4,8,3,7]\n",
    "Output: 49"
   ]
  },
  {
   "cell_type": "markdown",
   "metadata": {},
   "source": [
    "<img src='images/question_11.jpg'>"
   ]
  },
  {
   "cell_type": "raw",
   "metadata": {},
   "source": [
    "S(left, right) \n",
    "    = min(height[left], height[right]) * (right-left) \n",
    "    > S(left, j)\n",
    "    = min(height[left], height[j]) * (j-left)\n",
    "\n",
    "left = 0, right = n-1\n",
    "while not left > right:\n",
    "    height[left] < height[right], left++\n",
    "    height[left] > height[right], right--\n",
    "    height[left] = height[right], left++, right--"
   ]
  },
  {
   "cell_type": "code",
   "execution_count": 1,
   "metadata": {},
   "outputs": [],
   "source": [
    "nums = [1,2,4,3]\n",
    "height = [1,8,6,2,5,4,8,3,7]"
   ]
  },
  {
   "cell_type": "code",
   "execution_count": 14,
   "metadata": {},
   "outputs": [
    {
     "name": "stdout",
     "output_type": "stream",
     "text": [
      "CPU times: user 13 µs, sys: 6 µs, total: 19 µs\n",
      "Wall time: 18.1 µs\n"
     ]
    },
    {
     "data": {
      "text/plain": [
       "4"
      ]
     },
     "execution_count": 14,
     "metadata": {},
     "output_type": "execute_result"
    }
   ],
   "source": [
    "class Solution(object):\n",
    "    def maxArea(self, height):\n",
    "        \"\"\"\n",
    "        :type height: List[int]\n",
    "        :rtype: int\n",
    "        \"\"\"\n",
    "        left, right, most_water = 0, len(height)-1, 0\n",
    "        while left <= right:\n",
    "            water = (right - left) * min(height[left], height[right])\n",
    "            most_water = max(water, most_water)\n",
    "            if height[left] < height[right]:\n",
    "                left += 1\n",
    "            elif height[left] > height[right]:\n",
    "                right -= 1\n",
    "            else:\n",
    "                left += 1\n",
    "                right -= 1\n",
    "        return most_water\n",
    "model = Solution()\n",
    "%time model.maxArea(nums)"
   ]
  },
  {
   "cell_type": "code",
   "execution_count": 15,
   "metadata": {},
   "outputs": [
    {
     "name": "stdout",
     "output_type": "stream",
     "text": [
      "CPU times: user 9 µs, sys: 1e+03 ns, total: 10 µs\n",
      "Wall time: 13.1 µs\n"
     ]
    },
    {
     "data": {
      "text/plain": [
       "4"
      ]
     },
     "execution_count": 15,
     "metadata": {},
     "output_type": "execute_result"
    }
   ],
   "source": [
    "# 复盘 2019.Mar.14\n",
    "class Solution(object):\n",
    "    def maxArea(self, nums):\n",
    "        l = 0; r = len(nums)-1\n",
    "        res = 0\n",
    "        while r >= l:\n",
    "            res = max(min(nums[l], nums[r]) * (r-l), res)\n",
    "            if nums[r] > nums[l]:\n",
    "                l += 1\n",
    "            elif nums[l] > nums[r]:\n",
    "                r -= 1\n",
    "            else:\n",
    "                l += 1\n",
    "                r -= 1\n",
    "        return res\n",
    "model = Solution()\n",
    "%time model.maxArea(nums)"
   ]
  },
  {
   "cell_type": "code",
   "execution_count": 18,
   "metadata": {},
   "outputs": [
    {
     "name": "stdout",
     "output_type": "stream",
     "text": [
      "CPU times: user 7 µs, sys: 1 µs, total: 8 µs\n",
      "Wall time: 11.9 µs\n"
     ]
    },
    {
     "data": {
      "text/plain": [
       "4"
      ]
     },
     "execution_count": 18,
     "metadata": {},
     "output_type": "execute_result"
    }
   ],
   "source": [
    "# 直接用谁高来判断\n",
    "class Solution(object):\n",
    "    def maxArea(self, nums):\n",
    "        l, r, res = 0, len(nums)-1, 0\n",
    "        while r > l:\n",
    "            if nums[l] > nums[r]:\n",
    "                tmp = nums[r] * (r-l)\n",
    "                r -= 1\n",
    "            else:\n",
    "                tmp = nums[l] * (r-l)\n",
    "                l += 1\n",
    "            res = max(res, tmp)\n",
    "        return res\n",
    "model = Solution()\n",
    "%time model.maxArea(nums)"
   ]
  },
  {
   "cell_type": "code",
   "execution_count": null,
   "metadata": {},
   "outputs": [],
   "source": []
  }
 ],
 "metadata": {
  "kernelspec": {
   "display_name": "Python2.7",
   "language": "python",
   "name": "python2.7"
  },
  "language_info": {
   "codemirror_mode": {
    "name": "ipython",
    "version": 2
   },
   "file_extension": ".py",
   "mimetype": "text/x-python",
   "name": "python",
   "nbconvert_exporter": "python",
   "pygments_lexer": "ipython2",
   "version": "2.7.15"
  }
 },
 "nbformat": 4,
 "nbformat_minor": 2
}
