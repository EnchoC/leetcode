{
 "cells": [
  {
   "cell_type": "markdown",
   "metadata": {},
   "source": [
    "https://leetcode.com/problems/unique-email-addresses/"
   ]
  },
  {
   "cell_type": "code",
   "execution_count": null,
   "metadata": {},
   "outputs": [],
   "source": [
    "Every email consists of a local name and a domain name, separated by the @ sign.\n",
    "\n",
    "For example, in alice@leetcode.com, alice is the local name, and leetcode.com is the domain name.\n",
    "\n",
    "Besides lowercase letters, these emails may contain '.'s or '+'s.\n",
    "\n",
    "If you add periods ('.') between some characters in the local name part of an email address, \n",
    "mail sent there will be forwarded to the same address without dots in the local name.  \n",
    "For example, \"alice.z@leetcode.com\" and \"alicez@leetcode.com\" forward to the same email address.  \n",
    "(Note that this rule does not apply for domain names.)\n",
    "\n",
    "If you add a plus ('+') in the local name, everything after the first plus sign will be ignored. \n",
    "This allows certain emails to be filtered, for example m.y+name@email.com will be forwarded to my@email.com.  \n",
    "(Again, this rule does not apply for domain names.)\n",
    "\n",
    "It is possible to use both of these rules at the same time.\n",
    "\n",
    "Given a list of emails, we send one email to each address in the list.  \n",
    "How many different addresses actually receive mails? \n",
    "\n",
    "Example 1:\n",
    "\n",
    "Input: [\"test.email+alex@leetcode.com\",\"test.e.mail+bob.cathy@leetcode.com\",\"testemail+david@lee.tcode.com\"]\n",
    "Output: 2\n",
    "Explanation: \"testemail@leetcode.com\" and \"testemail@lee.tcode.com\" actually receive mails\n",
    " \n",
    "Note:\n",
    "\n",
    "1 <= emails[i].length <= 100\n",
    "1 <= emails.length <= 100\n",
    "Each emails[i] contains exactly one '@' character."
   ]
  },
  {
   "cell_type": "code",
   "execution_count": 1,
   "metadata": {},
   "outputs": [],
   "source": [
    "class Solution(object):\n",
    "    def numUniqueEmails(self, emails):\n",
    "        \"\"\"\n",
    "        :type emails: List[str]\n",
    "        :rtype: int\n",
    "        \"\"\"\n",
    "        res = set()\n",
    "        for i in emails:\n",
    "            local, domain = i.split('@')\n",
    "            if '+' in local: local = local[:local.index('+')]\n",
    "            res.add(local.replace('.','') + '@' + domain)\n",
    "        return len(res)"
   ]
  },
  {
   "cell_type": "markdown",
   "metadata": {},
   "source": [
    "直接遍历\n",
    "- 知识点\n",
    "    - str.split('')\n",
    "    - str.index('')\n",
    "    - set(), add()\n",
    "    - str.replace('','')"
   ]
  }
 ],
 "metadata": {
  "kernelspec": {
   "display_name": "Python2.7",
   "language": "python",
   "name": "python2.7"
  },
  "language_info": {
   "codemirror_mode": {
    "name": "ipython",
    "version": 2
   },
   "file_extension": ".py",
   "mimetype": "text/x-python",
   "name": "python",
   "nbconvert_exporter": "python",
   "pygments_lexer": "ipython2",
   "version": "2.7.15"
  }
 },
 "nbformat": 4,
 "nbformat_minor": 2
}
