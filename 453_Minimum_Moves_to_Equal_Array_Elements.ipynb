{
 "cells": [
  {
   "cell_type": "markdown",
   "metadata": {},
   "source": [
    "https://leetcode.com/problems/minimum-moves-to-equal-array-elements/"
   ]
  },
  {
   "cell_type": "code",
   "execution_count": null,
   "metadata": {},
   "outputs": [],
   "source": [
    "Given a non-empty integer array of size n, \n",
    "find the minimum number of moves required to make all array elements equal,\n",
    "where a move is incrementing n - 1 elements by 1.\n",
    "\n",
    "Example:\n",
    "\n",
    "Input:\n",
    "[1,2,3]\n",
    "\n",
    "Output:\n",
    "3\n",
    "\n",
    "Explanation:\n",
    "Only three moves are needed (remember each move increments two elements):\n",
    "\n",
    "[1,2,3]  =>  [2,3,3]  =>  [3,4,3]  =>  [4,4,4]"
   ]
  },
  {
   "cell_type": "code",
   "execution_count": 29,
   "metadata": {},
   "outputs": [
    {
     "name": "stdout",
     "output_type": "stream",
     "text": [
      "CPU times: user 8 µs, sys: 4 µs, total: 12 µs\n",
      "Wall time: 14.1 µs\n"
     ]
    },
    {
     "data": {
      "text/plain": [
       "36"
      ]
     },
     "execution_count": 29,
     "metadata": {},
     "output_type": "execute_result"
    }
   ],
   "source": [
    "class Solution(object):\n",
    "    def minMoves(self, nums):\n",
    "        \"\"\"\n",
    "        最小移动次数=数组总和-最小值×数组长度\n",
    "        :type nums: List[int]\n",
    "        :rtype: int\n",
    "        \"\"\"\n",
    "        return sum(nums) - min(nums)*len(nums)\n",
    "nums = [1,2,1,4,7,4,8,3,6,4,7]\n",
    "model = Solution()\n",
    "%time model.minMoves(nums)"
   ]
  },
  {
   "cell_type": "code",
   "execution_count": 30,
   "metadata": {},
   "outputs": [
    {
     "name": "stdout",
     "output_type": "stream",
     "text": [
      "CPU times: user 583 µs, sys: 353 µs, total: 936 µs\n",
      "Wall time: 604 µs\n"
     ]
    },
    {
     "data": {
      "text/plain": [
       "36"
      ]
     },
     "execution_count": 30,
     "metadata": {},
     "output_type": "execute_result"
    }
   ],
   "source": [
    "# 排序，并每次都是给并不是最大的元素加1直到全部相等\n",
    "class Solution(object):\n",
    "    def minMoves(self, nums):\n",
    "        \"\"\"\n",
    "        :type nums: List[int]\n",
    "        :rtype: int\n",
    "        \"\"\"\n",
    "        res = 0\n",
    "        while (not all(x == nums[0] for x in nums)):\n",
    "            nums.sort()\n",
    "            for i in range(len(nums) - 1):\n",
    "                nums[i] += 1\n",
    "            res += 1\n",
    "        return res\n",
    "nums = [1,2,1,4,7,4,8,3,6,4,7]\n",
    "model = Solution()\n",
    "%time model.minMoves(nums)    "
   ]
  },
  {
   "cell_type": "code",
   "execution_count": 2,
   "metadata": {},
   "outputs": [
    {
     "name": "stdout",
     "output_type": "stream",
     "text": [
      "CPU times: user 7 µs, sys: 2 µs, total: 9 µs\n",
      "Wall time: 12.2 µs\n"
     ]
    },
    {
     "data": {
      "text/plain": [
       "36"
      ]
     },
     "execution_count": 2,
     "metadata": {},
     "output_type": "execute_result"
    }
   ],
   "source": [
    "# 其实给n-1个数字加1，\n",
    "# 效果等同于给那个未被选中的数字减1\n",
    "# 比如数组[1，2，3], 给除去最大值的其他数字加1\n",
    "# 变为[2，3，3]，我们全体减1，并不影响数字间相对差异，\n",
    "# 变为[1，2，2]，这个结果其实就是原始数组的最大值3自减1，\n",
    "# 那么问题也可能转化为，将所有数字都减小到最小值，这样难度就大大降低了，\n",
    "# 我们只要先找到最小值，然后累加每个数跟最小值之间的差值即可\n",
    "class Solution(object):\n",
    "    def minMoves(self, nums):\n",
    "        \"\"\"\n",
    "        :type nums: List[int]\n",
    "        :rtype: int\n",
    "        \"\"\"\n",
    "        res = 0\n",
    "        minVal = min(nums)\n",
    "        for num in nums:\n",
    "        \tres += num - minVal\n",
    "        return res\n",
    "nums = [1,2,1,4,7,4,8,3,6,4,7]\n",
    "model = Solution()\n",
    "%time model.minMoves(nums)"
   ]
  },
  {
   "cell_type": "code",
   "execution_count": null,
   "metadata": {},
   "outputs": [],
   "source": []
  }
 ],
 "metadata": {
  "kernelspec": {
   "display_name": "Python2.7",
   "language": "python",
   "name": "python2.7"
  },
  "language_info": {
   "codemirror_mode": {
    "name": "ipython",
    "version": 2
   },
   "file_extension": ".py",
   "mimetype": "text/x-python",
   "name": "python",
   "nbconvert_exporter": "python",
   "pygments_lexer": "ipython2",
   "version": "2.7.15"
  }
 },
 "nbformat": 4,
 "nbformat_minor": 2
}
