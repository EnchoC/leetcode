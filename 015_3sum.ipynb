{
 "cells": [
  {
   "cell_type": "markdown",
   "metadata": {},
   "source": [
    "https://github.com/apachecn/awesome-algorithm/tree/master/docs/Leetcode_Solutions/Python"
   ]
  },
  {
   "cell_type": "raw",
   "metadata": {},
   "source": [
    "Given an array nums of n integers, are there elements a, b, c in nums such that a + b + c = 0? Find all unique triplets in the array which gives the sum of zero.\n",
    "\n",
    "Note:\n",
    "\n",
    "The solution set must not contain duplicate triplets.\n",
    "\n",
    "Example:\n",
    "\n",
    "Given array nums = [-1, 0, 1, 2, -1, -4],\n",
    "\n",
    "A solution set is:\n",
    "[\n",
    "  [-1, 0, 1],\n",
    "  [-1, -1, 2]\n",
    "]"
   ]
  },
  {
   "cell_type": "code",
   "execution_count": 1,
   "metadata": {},
   "outputs": [
    {
     "data": {
      "text/plain": [
       "[[-1, -1, 2], [-1, 0, 1]]"
      ]
     },
     "execution_count": 1,
     "metadata": {},
     "output_type": "execute_result"
    }
   ],
   "source": [
    "class Solution(object):\n",
    "    def threeSum(self, nums):\n",
    "        \"\"\"\n",
    "        :type nums: List[int]\n",
    "        :rtype: List[List[int]]\n",
    "        \"\"\"\n",
    "        rlist = []\n",
    "        nums.sort()\n",
    "        for i, num in enumerate(nums):\n",
    "            if i > 0 and nums[i] == nums[i-1]: continue\n",
    "            left, right = i+1, len(nums)-1\n",
    "            while left < right:\n",
    "                list_sum = num + nums[left] + nums[right]\n",
    "                if list_sum > 0:\n",
    "                    right -= 1\n",
    "                elif list_sum < 0:\n",
    "                    left += 1\n",
    "                else:\n",
    "                    rlist.append([num, nums[left], nums[right]])\n",
    "                    while left < right and nums[right] == nums[right-1]:\n",
    "                        right -=1\n",
    "                    while left < right and nums[left] == nums[left+1]:\n",
    "                        left +=1\n",
    "                    right -= 1\n",
    "                    left += 1\n",
    "        return rlist\n",
    "nums = [-1, 0, 1, 2, -1, -4]\n",
    "model = Solution()\n",
    "model.threeSum(nums)"
   ]
  },
  {
   "cell_type": "code",
   "execution_count": null,
   "metadata": {},
   "outputs": [],
   "source": []
  }
 ],
 "metadata": {
  "kernelspec": {
   "display_name": "Python 2",
   "language": "python",
   "name": "python2"
  },
  "language_info": {
   "codemirror_mode": {
    "name": "ipython",
    "version": 2
   },
   "file_extension": ".py",
   "mimetype": "text/x-python",
   "name": "python",
   "nbconvert_exporter": "python",
   "pygments_lexer": "ipython2",
   "version": "2.7.15"
  }
 },
 "nbformat": 4,
 "nbformat_minor": 2
}
