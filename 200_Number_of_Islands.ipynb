{
 "cells": [
  {
   "cell_type": "markdown",
   "metadata": {},
   "source": [
    "https://leetcode.com/problems/number-of-islands/"
   ]
  },
  {
   "cell_type": "raw",
   "metadata": {},
   "source": [
    "Given a 2d grid map of '1's (land) and '0's (water), \n",
    "count the number of islands.\n",
    "An island is surrounded by water and is formed by connecting adjacent lands horizontally or vertically. \n",
    "You may assume all four edges of the grid are all surrounded by water.\n",
    "\n",
    "Example 1:\n",
    "\n",
    "Input:\n",
    "11110\n",
    "11010\n",
    "11000\n",
    "00000\n",
    "\n",
    "Output: 1\n",
    "Example 2:\n",
    "\n",
    "Input:\n",
    "11000\n",
    "11000\n",
    "00100\n",
    "00011\n",
    "\n",
    "Output: 3"
   ]
  },
  {
   "cell_type": "code",
   "execution_count": 8,
   "metadata": {},
   "outputs": [],
   "source": [
    "grid = [[\"1\",\"1\",\"1\",\"1\",\"0\"],[\"1\",\"1\",\"0\",\"1\",\"0\"],[\"1\",\"1\",\"0\",\"0\",\"0\"],[\"0\",\"0\",\"0\",\"0\",\"0\"]]\n",
    "grid = [['1','1','0','0','0'],\n",
    "['1','1','0','0','0'],\n",
    "['0','0','1','0','0'],\n",
    "['0','0','0','1','1']]\n",
    "grid = [[1,0,0,1],[0,1,1,0],[0,1,1,1],[1,0,1,1]]"
   ]
  },
  {
   "cell_type": "code",
   "execution_count": 9,
   "metadata": {},
   "outputs": [
    {
     "name": "stdout",
     "output_type": "stream",
     "text": [
      "[['#' '0' '0' '#']\n",
      " ['0' '#' '#' '0']\n",
      " ['0' '#' '#' '#']\n",
      " ['#' '0' '#' '#']]\n",
      "CPU times: user 344 µs, sys: 106 µs, total: 450 µs\n",
      "Wall time: 370 µs\n"
     ]
    },
    {
     "data": {
      "text/plain": [
       "4"
      ]
     },
     "execution_count": 9,
     "metadata": {},
     "output_type": "execute_result"
    }
   ],
   "source": [
    "import numpy as np\n",
    "class Solution(object):\n",
    "    def numIslands(self, grid):\n",
    "        if not grid: return 0\n",
    "        self.length = len(grid)\n",
    "        self.row_length = len(grid[0])\n",
    "        res = 0\n",
    "        for i in xrange(self.length):\n",
    "            for j in range(self.row_length):\n",
    "                if grid[i][j] == 1:\n",
    "                    self.dfs(grid, i, j)\n",
    "                    res += 1\n",
    "        print np.array(grid)\n",
    "        return res\n",
    "    \n",
    "    def dfs(self, grid, i, j):\n",
    "        if i<0 or j<0 or i>=self.length or j>=self.row_length or grid[i][j] != 1:\n",
    "            return\n",
    "        grid[i][j] = '#'\n",
    "        self.dfs(grid, i+1, j)\n",
    "        self.dfs(grid, i-1, j)\n",
    "        self.dfs(grid, i, j+1)\n",
    "        self.dfs(grid, i, j-1)\n",
    "model = Solution()\n",
    "%time model.numIslands(grid)"
   ]
  },
  {
   "cell_type": "code",
   "execution_count": 7,
   "metadata": {},
   "outputs": [
    {
     "data": {
      "text/plain": [
       "array([[1, 0, 0, 1],\n",
       "       [0, 1, 1, 0],\n",
       "       [0, 1, 1, 1],\n",
       "       [1, 0, 1, 1]])"
      ]
     },
     "execution_count": 7,
     "metadata": {},
     "output_type": "execute_result"
    }
   ],
   "source": [
    "import numpy as np\n",
    "np.array([[1,0,0,1],[0,1,1,0],[0,1,1,1],[1,0,1,1]])"
   ]
  },
  {
   "cell_type": "code",
   "execution_count": null,
   "metadata": {},
   "outputs": [],
   "source": []
  }
 ],
 "metadata": {
  "kernelspec": {
   "display_name": "Python2.7",
   "language": "python",
   "name": "python2.7"
  },
  "language_info": {
   "codemirror_mode": {
    "name": "ipython",
    "version": 2
   },
   "file_extension": ".py",
   "mimetype": "text/x-python",
   "name": "python",
   "nbconvert_exporter": "python",
   "pygments_lexer": "ipython2",
   "version": "2.7.15"
  }
 },
 "nbformat": 4,
 "nbformat_minor": 2
}
