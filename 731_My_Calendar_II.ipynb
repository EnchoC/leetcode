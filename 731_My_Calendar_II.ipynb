{
 "cells": [
  {
   "cell_type": "markdown",
   "metadata": {},
   "source": [
    "https://leetcode.com/problems/my-calendar-ii/"
   ]
  },
  {
   "cell_type": "code",
   "execution_count": null,
   "metadata": {},
   "outputs": [],
   "source": [
    "Implement a MyCalendarTwo class to store your events. A new event can be added if adding the event will not cause a triple booking.\n",
    "\n",
    "Your class will have one method, book(int start, int end). Formally, this represents a booking on the half open interval [start, end), the range of real numbers x such that start <= x < end.\n",
    "\n",
    "A triple booking happens when three events have some non-empty intersection (ie., there is some time that is common to all 3 events.)\n",
    "\n",
    "For each call to the method MyCalendar.book, return true if the event can be added to the calendar successfully without causing a triple booking. Otherwise, return false and do not add the event to the calendar.\n",
    "\n",
    "Your class will be called like this: MyCalendar cal = new MyCalendar(); MyCalendar.book(start, end)\n",
    "Example 1:\n",
    "\n",
    "MyCalendar();\n",
    "MyCalendar.book(10, 20); // returns true\n",
    "MyCalendar.book(50, 60); // returns true\n",
    "MyCalendar.book(10, 40); // returns true\n",
    "MyCalendar.book(5, 15); // returns false\n",
    "MyCalendar.book(5, 10); // returns true\n",
    "MyCalendar.book(25, 55); // returns true\n",
    "Explanation: \n",
    "The first two events can be booked.  The third event can be double booked.\n",
    "The fourth event (5, 15) can't be booked, because it would result in a triple booking.\n",
    "The fifth event (5, 10) can be booked, as it does not use time 10 which is already double booked.\n",
    "The sixth event (25, 55) can be booked, as the time in [25, 40) will be double booked with the third event;\n",
    "the time [40, 50) will be single booked, and the time [50, 55) will be double booked with the second event.\n",
    " \n",
    "\n",
    "Note:\n",
    "\n",
    "The number of calls to MyCalendar.book per test case will be at most 1000.\n",
    "In calls to MyCalendar.book(start, end), start and end are integers in the range [0, 10^9]."
   ]
  },
  {
   "cell_type": "code",
   "execution_count": 1,
   "metadata": {},
   "outputs": [],
   "source": [
    "# 直接运用第三题得来的结论。。\n",
    "import collections\n",
    "class MyCalendarTwo(object):\n",
    "    def __init__(self):\n",
    "        self.book_list = collections.defaultdict(int)\n",
    "    def book(self, start, end):\n",
    "        self.book_list[start] += 1\n",
    "        self.book_list[end] -= 1\n",
    "        tmp = out = 0\n",
    "        for k,v in sorted(self.book_list.items()):\n",
    "            out += v\n",
    "            if out > tmp:\n",
    "                tmp = out\n",
    "        if tmp >= 3:\n",
    "            self.book_list[start] -= 1\n",
    "            self.book_list[end] += 1\n",
    "            return False\n",
    "        return True"
   ]
  },
  {
   "cell_type": "code",
   "execution_count": 2,
   "metadata": {},
   "outputs": [
    {
     "name": "stdout",
     "output_type": "stream",
     "text": [
      "[[47, 50], [33, 41], [39, 45], [33, 42], [25, 32], [26, 35], [19, 25], [3, 8], [8, 13], [18, 27]] \n",
      "[True, True, True, False, True, True, True, True, True, False]\n"
     ]
    }
   ],
   "source": [
    "obj = MyCalendarTwo()\n",
    "result = []\n",
    "test = [[47,50],[33,41],[39,45],[33,42],[25,32],[26,35],[19,25],[3,8],[8,13],[18,27]]\n",
    "for [start,end] in test:\n",
    "    result.append(obj.book(start,end))\n",
    "print test,'\\n',result"
   ]
  },
  {
   "cell_type": "code",
   "execution_count": null,
   "metadata": {},
   "outputs": [],
   "source": []
  }
 ],
 "metadata": {
  "kernelspec": {
   "display_name": "Python 2",
   "language": "python",
   "name": "python2"
  },
  "language_info": {
   "codemirror_mode": {
    "name": "ipython",
    "version": 2
   },
   "file_extension": ".py",
   "mimetype": "text/x-python",
   "name": "python",
   "nbconvert_exporter": "python",
   "pygments_lexer": "ipython2",
   "version": "2.7.15"
  }
 },
 "nbformat": 4,
 "nbformat_minor": 2
}
