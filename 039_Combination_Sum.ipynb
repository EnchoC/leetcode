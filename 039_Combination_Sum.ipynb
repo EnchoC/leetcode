{
 "cells": [
  {
   "cell_type": "markdown",
   "metadata": {},
   "source": [
    "https://leetcode.com/problems/combination-sum/"
   ]
  },
  {
   "cell_type": "code",
   "execution_count": null,
   "metadata": {},
   "outputs": [],
   "source": [
    "Given a set of candidate numbers (candidates) (without duplicates) and a target number (target), \n",
    "find all unique combinations in candidates where the candidate numbers sums to target.\n",
    "\n",
    "The same repeated number may be chosen from candidates unlimited number of times.\n",
    "\n",
    "Note:\n",
    "\n",
    "All numbers (including target) will be positive integers.\n",
    "The solution set must not contain duplicate combinations.\n",
    "Example 1:\n",
    "\n",
    "Input: candidates = [2,3,6,7], target = 7,\n",
    "A solution set is:\n",
    "[\n",
    "  [7],\n",
    "  [2,2,3]\n",
    "]\n",
    "Example 2:\n",
    "\n",
    "Input: candidates = [2,3,5], target = 8,\n",
    "A solution set is:\n",
    "[\n",
    "  [2,2,2,2],\n",
    "  [2,3,3],\n",
    "  [3,5]\n",
    "]"
   ]
  },
  {
   "cell_type": "code",
   "execution_count": 28,
   "metadata": {},
   "outputs": [
    {
     "data": {
      "text/plain": [
       "[[2, 2, 3], [7]]"
      ]
     },
     "execution_count": 28,
     "metadata": {},
     "output_type": "execute_result"
    }
   ],
   "source": [
    "# 深度优先算法DFS beat99.58%[2019.2.26]\n",
    "class Solution(object):\n",
    "    def combinationSum(self, candidates, target):\n",
    "        \"\"\"\n",
    "        :type candidates: List[int]\n",
    "        :type target: int\n",
    "        :rtype: List[List[int]]\n",
    "        \"\"\"\n",
    "        def dfs(candidates, target, s, curr, ans):\n",
    "            \"\"\"\n",
    "            :params candidates: 所有元素\n",
    "            :params target: 目标\n",
    "            :params s: 初始元素\n",
    "            :params curr: 当前使用的数组\n",
    "            :params ans: 答案\n",
    "            \"\"\"\n",
    "            if target == 0: # 终止条件\n",
    "                ans.append(curr[:])\n",
    "                return\n",
    "            if target < candidates[0]: # 去掉最小的一个都比target的情况\n",
    "                return\n",
    "            for i in xrange(s, n): # 从s开始到n\n",
    "                if candidates[i] > target: return # 去掉candidates[i]大于target的情况\n",
    "                curr.append(candidates[i])\n",
    "                dfs(candidates, target-candidates[i], i, curr, ans) # 搜索下一层\n",
    "                curr.pop()\n",
    "        \n",
    "        n = len(candidates)\n",
    "        res = []\n",
    "        candidates.sort()\n",
    "        dfs(candidates, target, 0, [], res)\n",
    "        return res\n",
    "candidates = [2,3,6,7]\n",
    "target = 7\n",
    "model = Solution()\n",
    "model.combinationSum(candidates, target)"
   ]
  },
  {
   "cell_type": "markdown",
   "metadata": {},
   "source": [
    "https://docs.google.com/spreadsheets/d/1SbpY-04Cz8EWw3A_LBUmDEXKUMO31DBjfeMoA0dlfIA/edit#gid=932160389"
   ]
  },
  {
   "cell_type": "code",
   "execution_count": 29,
   "metadata": {},
   "outputs": [],
   "source": [
    "# Search\n",
    "## DFS 深度优先算法\n",
    "## BFS 广度优先算法\n",
    "## Binary 二分法\n",
    "## Half-Interval 折半查找"
   ]
  }
 ],
 "metadata": {
  "kernelspec": {
   "display_name": "Python 2",
   "language": "python",
   "name": "python2"
  },
  "language_info": {
   "codemirror_mode": {
    "name": "ipython",
    "version": 2
   },
   "file_extension": ".py",
   "mimetype": "text/x-python",
   "name": "python",
   "nbconvert_exporter": "python",
   "pygments_lexer": "ipython2",
   "version": "2.7.15"
  }
 },
 "nbformat": 4,
 "nbformat_minor": 2
}
