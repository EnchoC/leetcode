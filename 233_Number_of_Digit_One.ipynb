{
 "cells": [
  {
   "cell_type": "markdown",
   "metadata": {},
   "source": [
    "https://leetcode.com/problems/number-of-digit-one/"
   ]
  },
  {
   "cell_type": "raw",
   "metadata": {},
   "source": [
    "Given an integer n, count the total number of digit 1 appearing in all non-negative integers less than or equal to n.\n",
    "\n",
    "Example:\n",
    "\n",
    "Input: 13\n",
    "Output: 6 \n",
    "Explanation: Digit 1 occurred in the following numbers: 1, 10, 11, 12, 13."
   ]
  },
  {
   "cell_type": "markdown",
   "metadata": {},
   "source": [
    "#### 暴力版，结果超时了"
   ]
  },
  {
   "cell_type": "code",
   "execution_count": 5,
   "metadata": {},
   "outputs": [],
   "source": [
    "class Solution(object):\n",
    "    @classmethod\n",
    "    def countDigitOne(self, n):\n",
    "        \"\"\"\n",
    "        :type n: int\n",
    "        :rtype: int\n",
    "        \"\"\"\n",
    "        cnt = 0\n",
    "        for i in xrange(1,n+1):cnt += str(i).count('1')\n",
    "        return cnt\n",
    "n = 824883294 # bad case"
   ]
  },
  {
   "cell_type": "code",
   "execution_count": 6,
   "metadata": {},
   "outputs": [
    {
     "data": {
      "text/plain": [
       "20"
      ]
     },
     "execution_count": 6,
     "metadata": {},
     "output_type": "execute_result"
    }
   ],
   "source": [
    "Solution.countDigitOne(99)"
   ]
  },
  {
   "cell_type": "code",
   "execution_count": 16,
   "metadata": {},
   "outputs": [
    {
     "name": "stdout",
     "output_type": "stream",
     "text": [
      "10 10 10 9\n",
      "20 100 100 0\n"
     ]
    },
    {
     "data": {
      "text/plain": [
       "20"
      ]
     },
     "execution_count": 16,
     "metadata": {},
     "output_type": "execute_result"
    }
   ],
   "source": [
    "class Solution(object):\n",
    "    @classmethod\n",
    "    def countDigitOne(self, n):\n",
    "        ones = 0\n",
    "        m = r = 1\n",
    "        while n > 0:\n",
    "            ones += (n + 8) / 10 * m + (n % 10 == 1) * r\n",
    "            r += n % 10 * m\n",
    "            m *= 10\n",
    "            n /= 10\n",
    "            print ones,m,r,n\n",
    "        return ones\n",
    "Solution.countDigitOne(99)"
   ]
  },
  {
   "cell_type": "code",
   "execution_count": 24,
   "metadata": {},
   "outputs": [],
   "source": [
    "class Solution:\n",
    "    def countDigitOne(self, n):\n",
    "        if n < 10:\n",
    "            return 1 if n >= 1 else 0\n",
    "        weishu = 0\n",
    "        t = n\n",
    "        while t:\n",
    "            weishu += 1\n",
    "            t //=10\n",
    "        # 获取该数的位数  \n",
    "        # 0到9999中1的个数(假设n=34567)，也就是获取位数减一的1的总数\n",
    "        pre_number = self.get_1number(weishu-1)\n",
    "        print 'pre_number',pre_number\n",
    "        # 取n的最高位\n",
    "        high = int(str(n)[0])  \n",
    "        # 取低位数据(还是n=34567，low就是4567)\n",
    "        low = n - high * 10 ** (weishu-1)  \n",
    "        # 高位是1，直接就是非高位数+1(假设n=13456,则10000到13456的出现1的个数就是3457)\n",
    "        if high == 1:\n",
    "            h_number = low + 1  \n",
    "            mid_numbers = h_number\n",
    "        else:\n",
    "            # 最高位不是1，例如n=34567，那么需要计算0到9999,然后是10000到19999，\n",
    "            # 再然后是20000到29999，最后是30000到34567，分成这几部分求1出现的个数，叠加即可。\n",
    "            # 而下面则是实现从10000到29999中1的个数，那就是高位减一(也就是2)乘以0到9999中1出现的次数。\n",
    "            h_number = 10 ** (weishu - 1)\n",
    "            mid_numbers = h_number + pre_number * (high - 1)  # 最高位大于1的话，统计每个多位数后面包含的1\n",
    "        # 最后将0到9999中1的个数加上10000到29999中1的个数，\n",
    "        # 然后再加上30000到34567中1的个数就是最终的结果。\n",
    "        # 而最后一部分直接递归即可！\n",
    "        return pre_number + mid_numbers + self.countDigitOne(low) \n",
    "    \n",
    "    def get_1number(self,n):\n",
    "        if n <= 0:\n",
    "            return 0\n",
    "        if n == 1:\n",
    "            return 1\n",
    "        return 10 * self.get_1number(n-1) + 10 ** (n-1)"
   ]
  },
  {
   "cell_type": "code",
   "execution_count": 25,
   "metadata": {},
   "outputs": [
    {
     "name": "stdout",
     "output_type": "stream",
     "text": [
      "pre_number 20\n",
      "pre_number 1\n"
     ]
    },
    {
     "data": {
      "text/plain": [
       "300"
      ]
     },
     "execution_count": 25,
     "metadata": {},
     "output_type": "execute_result"
    }
   ],
   "source": [
    "model = Solution()\n",
    "model.countDigitOne(999)"
   ]
  },
  {
   "cell_type": "code",
   "execution_count": null,
   "metadata": {},
   "outputs": [],
   "source": [
    "# 不懂后面两种方法"
   ]
  }
 ],
 "metadata": {
  "kernelspec": {
   "display_name": "Python 2",
   "language": "python",
   "name": "python2"
  },
  "language_info": {
   "codemirror_mode": {
    "name": "ipython",
    "version": 2
   },
   "file_extension": ".py",
   "mimetype": "text/x-python",
   "name": "python",
   "nbconvert_exporter": "python",
   "pygments_lexer": "ipython2",
   "version": "2.7.15"
  }
 },
 "nbformat": 4,
 "nbformat_minor": 2
}
