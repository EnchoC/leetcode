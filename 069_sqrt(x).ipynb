{
 "cells": [
  {
   "cell_type": "markdown",
   "metadata": {},
   "source": [
    "https://github.com/apachecn/awesome-algorithm/blob/master/docs/Leetcode_Solutions/Python/069._sqrt(x).md"
   ]
  },
  {
   "cell_type": "raw",
   "metadata": {},
   "source": [
    "Implement int sqrt(int x).\n",
    "\n",
    "Compute and return the square root of x, where x is guaranteed to be a non-negative integer.\n",
    "\n",
    "Since the return type is an integer, the decimal digits are truncated and only the integer part of the result is returned.\n",
    "\n",
    "Example 1:\n",
    "\n",
    "Input: 4\n",
    "Output: 2\n",
    "Example 2:\n",
    "\n",
    "Input: 8\n",
    "Output: 2\n",
    "Explanation: The square root of 8 is 2.82842..., and since \n",
    "             the decimal part is truncated, 2 is returned.\n"
   ]
  },
  {
   "cell_type": "code",
   "execution_count": 3,
   "metadata": {},
   "outputs": [],
   "source": [
    "## 时间复杂度O（lgn）\n",
    "class Solution(object):\n",
    "    def mySqrt(self, x):\n",
    "        \"\"\"\n",
    "        :type x: int\n",
    "        :rtype: int\n",
    "        \"\"\"\n",
    "        i = 0\n",
    "        while i**2 <= x:\n",
    "            if i**2 <= x < (i+1)**2: return i\n",
    "            i += 1"
   ]
  },
  {
   "cell_type": "markdown",
   "metadata": {},
   "source": [
    "<img src='./images/newton_method.png'>"
   ]
  },
  {
   "cell_type": "code",
   "execution_count": 7,
   "metadata": {},
   "outputs": [],
   "source": [
    "class Solution(object):\n",
    "    def mySqrt(self, x):\n",
    "        \"\"\"\n",
    "        :type x: int\n",
    "        :rtype: int\n",
    "        \"\"\"\n",
    "        tmp = x\n",
    "        while tmp**2 > x:\n",
    "            tmp = (tmp + x/tmp)/2\n",
    "        return tmp"
   ]
  },
  {
   "cell_type": "code",
   "execution_count": 8,
   "metadata": {},
   "outputs": [],
   "source": [
    "import math\n",
    "class Solution(object):\n",
    "    def mySqrt(self, x):\n",
    "        \"\"\"\n",
    "        :type x: int\n",
    "        :rtype: int\n",
    "        \"\"\"\n",
    "        return int(math.sqrt(x))"
   ]
  },
  {
   "cell_type": "code",
   "execution_count": 10,
   "metadata": {},
   "outputs": [],
   "source": [
    "## 二分法\n",
    "import math\n",
    "class Solution(object):\n",
    "    def mySqrt(self, x):\n",
    "        \"\"\"\n",
    "        :type x: int\n",
    "        :rtype: int\n",
    "        \"\"\"\n",
    "        l,r = 0, x\n",
    "        while l<= r:\n",
    "            mid = (r - l)//2 + l\n",
    "            if mid**2 <= x < (mid+1)**2:\n",
    "                return mid\n",
    "            elif x > mid**2:\n",
    "                r = mid\n",
    "            else:\n",
    "                l = mid +1"
   ]
  },
  {
   "cell_type": "code",
   "execution_count": null,
   "metadata": {},
   "outputs": [],
   "source": []
  }
 ],
 "metadata": {
  "kernelspec": {
   "display_name": "Python 2",
   "language": "python",
   "name": "python2"
  },
  "language_info": {
   "codemirror_mode": {
    "name": "ipython",
    "version": 2
   },
   "file_extension": ".py",
   "mimetype": "text/x-python",
   "name": "python",
   "nbconvert_exporter": "python",
   "pygments_lexer": "ipython2",
   "version": "2.7.15"
  }
 },
 "nbformat": 4,
 "nbformat_minor": 2
}
