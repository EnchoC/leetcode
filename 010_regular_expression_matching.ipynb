{
 "cells": [
  {
   "cell_type": "markdown",
   "metadata": {},
   "source": [
    "https://github.com/apachecn/awesome-algorithm/blob/master/docs/Leetcode_Solutions/Python/010._regular_expression_matching.md"
   ]
  },
  {
   "cell_type": "raw",
   "metadata": {},
   "source": [
    "Given an input string (s) and a pattern (p), implement regular expression matching with support for '.' and '*'.\n",
    "\n",
    "'.' Matches any single character.\n",
    "'*' Matches zero or more of the preceding element.\n",
    "The matching should cover the entire input string (not partial).\n",
    "\n",
    "Note:\n",
    "\n",
    "s could be empty and contains only lowercase letters a-z.\n",
    "p could be empty and contains only lowercase letters a-z, and characters like . or *.\n",
    "Example 1:\n",
    "\n",
    "Input:\n",
    "s = \"aa\"\n",
    "p = \"a\"\n",
    "Output: false\n",
    "Explanation: \"a\" does not match the entire string \"aa\".\n",
    "Example 2:\n",
    "\n",
    "Input:\n",
    "s = \"aa\"\n",
    "p = \"a*\"\n",
    "Output: true\n",
    "Explanation: '*' means zero or more of the precedeng element, 'a'. Therefore, by repeating 'a' once, it becomes \"aa\".\n",
    "Example 3:\n",
    "\n",
    "Input:\n",
    "s = \"ab\"\n",
    "p = \".*\"\n",
    "Output: true\n",
    "Explanation: \".*\" means \"zero or more (*) of any character (.)\".\n",
    "Example 4:\n",
    "\n",
    "Input:\n",
    "s = \"aab\"\n",
    "p = \"c*a*b\"\n",
    "Output: true\n",
    "Explanation: c can be repeated 0 times, a can be repeated 1 time. Therefore it matches \"aab\".\n",
    "Example 5:\n",
    "\n",
    "Input:\n",
    "s = \"mississippi\"\n",
    "p = \"mis*is*p*.\"\n",
    "Output: false"
   ]
  },
  {
   "cell_type": "code",
   "execution_count": 42,
   "metadata": {},
   "outputs": [
    {
     "data": {
      "text/plain": [
       "True"
      ]
     },
     "execution_count": 42,
     "metadata": {},
     "output_type": "execute_result"
    }
   ],
   "source": [
    "class Solution(object):\n",
    "    def isMatch(self, s, p):\n",
    "        \"\"\"\n",
    "        :type s: str\n",
    "        :type p: str\n",
    "        :rtype: bool\n",
    "        \"\"\"\n",
    "        m, n = len(s), len(p)\n",
    "        dp = [ [0 for i in range(n+1)] for j in range(m+1)]\n",
    "        dp[0][0] = 1\n",
    "        for i in range(2,n+1):\n",
    "            if p[i-1] == '*':\n",
    "                dp[0][i] = dp[0][i-2]\n",
    "        for i in range(1,m+1):\n",
    "            for j in range(1,n+1):\n",
    "                if p[j-1] == '*':\n",
    "                    if p[j-2] != s[i-1] and p[j-2] != '.':\n",
    "                        dp[i][j] = dp[i][j-2]\n",
    "                    elif p[j-2] == s[i-1] or p[j-2] == '.':\n",
    "                        dp[i][j] = dp[i-1][j] or dp[i][j-2]\n",
    "                elif s[i-1] == p[j-1] or p[j-1] == '.':\n",
    "                    dp[i][j] = dp[i-1][j-1]\n",
    "        return dp[m][n] == 1\n",
    "s = \"mississippi\"\n",
    "p = \"miss.*sippi\"\n",
    "model = Solution()\n",
    "model.isMatch(s,p)"
   ]
  },
  {
   "cell_type": "code",
   "execution_count": null,
   "metadata": {},
   "outputs": [],
   "source": []
  }
 ],
 "metadata": {
  "kernelspec": {
   "display_name": "Python 2",
   "language": "python",
   "name": "python2"
  },
  "language_info": {
   "codemirror_mode": {
    "name": "ipython",
    "version": 2
   },
   "file_extension": ".py",
   "mimetype": "text/x-python",
   "name": "python",
   "nbconvert_exporter": "python",
   "pygments_lexer": "ipython2",
   "version": "2.7.15"
  }
 },
 "nbformat": 4,
 "nbformat_minor": 2
}
