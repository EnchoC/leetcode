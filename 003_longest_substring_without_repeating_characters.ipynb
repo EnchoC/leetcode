{
 "cells": [
  {
   "cell_type": "markdown",
   "metadata": {},
   "source": [
    "Given a string, find the length of the longest substring without repeating characters.\n",
    "\n",
    "Example 1:\n",
    "\n",
    "Input: \"abcabcbb\"\n",
    "\n",
    "Output: 3 \n",
    "\n",
    "Explanation: The answer is \"abc\", with the length of 3. \n",
    "\n",
    "Example 2:\n",
    "\n",
    "Input: \"bbbbb\"\n",
    "\n",
    "Output: 1\n",
    "\n",
    "Explanation: The answer is \"b\", with the length of 1.\n",
    "\n",
    "Example 3:\n",
    "\n",
    "Input: \"pwwkew\"\n",
    "\n",
    "Output: 3\n",
    "\n",
    "Explanation: The answer is \"wke\", with the length of 3. Note that the answer must be a substring, \"pwke\" is a subsequence and not a substring."
   ]
  },
  {
   "cell_type": "code",
   "execution_count": 6,
   "metadata": {},
   "outputs": [
    {
     "name": "stdout",
     "output_type": "stream",
     "text": [
      "4\n"
     ]
    }
   ],
   "source": [
    "class Solution:\n",
    "    def lengthOfLongestSubstring(self, s):\n",
    "        \"\"\"\n",
    "        :type s: str\n",
    "        :rtype: int\n",
    "        \"\"\"\n",
    "        loading_str = []\n",
    "        for i in s:\n",
    "            loading_str.append(i) if i not in loading_str else 0\n",
    "        return len(loading_str)\n",
    "text = 'pwwkew'\n",
    "model = Solution()\n",
    "print model.lengthOfLongestSubstring(text)"
   ]
  },
  {
   "cell_type": "markdown",
   "metadata": {},
   "source": [
    "# collections.defaultdict"
   ]
  },
  {
   "cell_type": "code",
   "execution_count": 26,
   "metadata": {},
   "outputs": [
    {
     "data": {
      "text/plain": [
       "defaultdict(<function __main__.<lambda>>, {'hello': 1, 'nice': 1, 'world': 2})"
      ]
     },
     "execution_count": 26,
     "metadata": {},
     "output_type": "execute_result"
    }
   ],
   "source": [
    "from collections import defaultdict\n",
    "words = ['hello', 'world', 'nice', 'world']\n",
    "#使用lambda来定义简单的函数\n",
    "counter = defaultdict(lambda: 0) \n",
    "for kw in words:\n",
    "    counter[kw] += 1\n",
    "counter"
   ]
  },
  {
   "cell_type": "markdown",
   "metadata": {},
   "source": [
    "# setdefault"
   ]
  },
  {
   "cell_type": "code",
   "execution_count": 27,
   "metadata": {},
   "outputs": [
    {
     "data": {
      "text/plain": [
       "{'hello': 1, 'nice': 1, 'world': 2}"
      ]
     },
     "execution_count": 27,
     "metadata": {},
     "output_type": "execute_result"
    }
   ],
   "source": [
    "# setdefault(key, default)\n",
    "# 第一个参数是键值，第二个参数是默认值，\n",
    "# 每次调用都有一个返回值，如果字典中不存在该键则返回默认值，\n",
    "# 如果存在该键则返回该值，利用返回值可再次修改代码。\n",
    "words = ['hello', 'world', 'nice', 'world']\n",
    "counter = dict()\n",
    "for kw in words:\n",
    "    counter.setdefault(kw, 0)\n",
    "    counter[kw] += 1\n",
    "counter"
   ]
  },
  {
   "cell_type": "code",
   "execution_count": 28,
   "metadata": {},
   "outputs": [
    {
     "name": "stdout",
     "output_type": "stream",
     "text": [
      "4\n"
     ]
    }
   ],
   "source": [
    "from collections import defaultdict\n",
    "class Solution:\n",
    "    def lengthOfLongestSubstring(self, s):\n",
    "        \"\"\"\n",
    "        :type s: str\n",
    "        :rtype: int\n",
    "        \"\"\"\n",
    "        counter = defaultdict(lambda :0)\n",
    "        for i in s:\n",
    "            counter[i] += 1\n",
    "        return len(counter)\n",
    "text = 'pwwkew'\n",
    "model = Solution()\n",
    "print model.lengthOfLongestSubstring(text)"
   ]
  }
 ],
 "metadata": {
  "kernelspec": {
   "display_name": "Python 2",
   "language": "python",
   "name": "python2"
  },
  "language_info": {
   "codemirror_mode": {
    "name": "ipython",
    "version": 2
   },
   "file_extension": ".py",
   "mimetype": "text/x-python",
   "name": "python",
   "nbconvert_exporter": "python",
   "pygments_lexer": "ipython2",
   "version": "2.7.15"
  }
 },
 "nbformat": 4,
 "nbformat_minor": 2
}
