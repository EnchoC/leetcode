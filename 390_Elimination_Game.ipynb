{
 "cells": [
  {
   "cell_type": "markdown",
   "metadata": {},
   "source": [
    "https://leetcode.com/problems/elimination-game/"
   ]
  },
  {
   "cell_type": "code",
   "execution_count": null,
   "metadata": {},
   "outputs": [],
   "source": [
    "There is a list of sorted integers from 1 to n. Starting from left to right, \n",
    "remove the first number and every other number afterward until you reach the end of the list.\n",
    "\n",
    "Repeat the previous step again, but this time from right to left, \n",
    "remove the right most number and every other number from the remaining numbers.\n",
    "\n",
    "We keep repeating the steps again, alternating left to right and right to left, until a single number remains.\n",
    "\n",
    "Find the last number that remains starting with a list of length n.\n",
    "\n",
    "Example:\n",
    "\n",
    "Input:\n",
    "n = 9,\n",
    "1 2 3 4 5 6 7 8 9\n",
    "2 4 6 8\n",
    "2 6\n",
    "6\n",
    "\n",
    "Output:\n",
    "6"
   ]
  },
  {
   "cell_type": "code",
   "execution_count": 1,
   "metadata": {},
   "outputs": [],
   "source": [
    "nums = 100000000"
   ]
  },
  {
   "cell_type": "code",
   "execution_count": 10,
   "metadata": {},
   "outputs": [
    {
     "name": "stdout",
     "output_type": "stream",
     "text": [
      "CPU times: user 19.1 s, sys: 952 ms, total: 20.1 s\n",
      "Wall time: 20.1 s\n"
     ]
    },
    {
     "data": {
      "text/plain": [
       "32896342"
      ]
     },
     "execution_count": 10,
     "metadata": {},
     "output_type": "execute_result"
    }
   ],
   "source": [
    "# 直接递归，用了list内存需求太大了，忘记这种题的一大死坑\n",
    "class Solution(object):\n",
    "    def lastRemaining(self, n):\n",
    "        \"\"\"\n",
    "        :type n: int\n",
    "        :rtype: int\n",
    "        \"\"\"\n",
    "        def helper(nums, step):\n",
    "            length = len(nums)\n",
    "            if length == 1: return nums.pop()\n",
    "            if step:\n",
    "                del nums[0:length:2]\n",
    "                return helper(nums, False)\n",
    "            else:\n",
    "                nums.reverse()\n",
    "                del nums[0:length:2]\n",
    "                nums.reverse()\n",
    "                return helper(nums, True)\n",
    "        res = list(range(1,n+1))\n",
    "        return helper(res, True)\n",
    "model = Solution()\n",
    "%time model.lastRemaining(nums)"
   ]
  },
  {
   "cell_type": "code",
   "execution_count": 11,
   "metadata": {},
   "outputs": [
    {
     "name": "stdout",
     "output_type": "stream",
     "text": [
      "CPU times: user 27.9 s, sys: 857 ms, total: 28.8 s\n",
      "Wall time: 28.8 s\n"
     ]
    },
    {
     "data": {
      "text/plain": [
       "32896342"
      ]
     },
     "execution_count": 11,
     "metadata": {},
     "output_type": "execute_result"
    }
   ],
   "source": [
    "# 直接递归，同上，只是逻辑简单了\n",
    "class Solution(object):\n",
    "    def lastRemaining(self, n):\n",
    "        \"\"\"\n",
    "        :type n: int\n",
    "        :rtype: int\n",
    "        \"\"\"\n",
    "        res = range(1, n+1)\n",
    "        while len(res)>1: res = res[1::2][::-1]\n",
    "        return res[0]\n",
    "model = Solution()\n",
    "%time model.lastRemaining(nums)"
   ]
  },
  {
   "cell_type": "code",
   "execution_count": 14,
   "metadata": {},
   "outputs": [
    {
     "name": "stdout",
     "output_type": "stream",
     "text": [
      "CPU times: user 25 µs, sys: 7 µs, total: 32 µs\n",
      "Wall time: 31 µs\n"
     ]
    },
    {
     "data": {
      "text/plain": [
       "32896342"
      ]
     },
     "execution_count": 14,
     "metadata": {},
     "output_type": "execute_result"
    }
   ],
   "source": [
    "class Solution:\n",
    "    def lastRemaining(self, n):\n",
    "        \"\"\"\n",
    "        :type n: int\n",
    "        :rtype: int\n",
    "        \"\"\"\n",
    "        if n == 1:\n",
    "            return 1\n",
    "        else:\n",
    "            return 2*((n//2)+1-self.lastRemaining(n//2))\n",
    "model = Solution()\n",
    "%time model.lastRemaining(nums)"
   ]
  },
  {
   "cell_type": "code",
   "execution_count": 23,
   "metadata": {},
   "outputs": [
    {
     "name": "stdout",
     "output_type": "stream",
     "text": [
      "CPU times: user 18 µs, sys: 9 µs, total: 27 µs\n",
      "Wall time: 24.1 µs\n"
     ]
    },
    {
     "data": {
      "text/plain": [
       "32896342"
      ]
     },
     "execution_count": 23,
     "metadata": {},
     "output_type": "execute_result"
    }
   ],
   "source": [
    "# 求出起始位置和终止位置,直至数字n为1(因为每次消除后,n都会减少一半,最终减少到1即结束)\n",
    "class Solution(object):\n",
    "    def lastRemaining(self, n):\n",
    "        S = 1\n",
    "        interval = 1\n",
    "        direction = True\n",
    "        while n != 1:\n",
    "            if direction:\n",
    "                S = S - interval + 2 * interval * (n // 2)\n",
    "            else:\n",
    "                S = S + interval - 2 * interval * (n // 2)\n",
    "            direction = not direction\n",
    "            n = n // 2\n",
    "            interval = 2 * interval\n",
    "        return S\n",
    "model = Solution()\n",
    "%time model.lastRemaining(nums)"
   ]
  },
  {
   "cell_type": "code",
   "execution_count": 22,
   "metadata": {},
   "outputs": [
    {
     "name": "stdout",
     "output_type": "stream",
     "text": [
      "CPU times: user 13 µs, sys: 10 µs, total: 23 µs\n",
      "Wall time: 20 µs\n"
     ]
    },
    {
     "data": {
      "text/plain": [
       "32896342"
      ]
     },
     "execution_count": 22,
     "metadata": {},
     "output_type": "execute_result"
    }
   ],
   "source": [
    "# 大神解法，暂时看不懂什么逻辑\n",
    "class Solution(object):\n",
    "    def lastRemaining(self, n):\n",
    "        \"\"\"\n",
    "        :type n: int\n",
    "        :rtype: int\n",
    "        \"\"\"\n",
    "        step=1\n",
    "        head=1\n",
    "        left=True\n",
    "        while n>1:\n",
    "            if left or n%2==1:\n",
    "                head=head+step\n",
    "            step*=2\n",
    "            n=n/2\n",
    "            left=not left\n",
    "        return head\n",
    "model = Solution()\n",
    "%time model.lastRemaining(nums)"
   ]
  },
  {
   "cell_type": "markdown",
   "metadata": {},
   "source": [
    "知识点\n",
    "- list 切片\n",
    "    - [a:b:c] c为步长"
   ]
  }
 ],
 "metadata": {
  "kernelspec": {
   "display_name": "Python2.7",
   "language": "python",
   "name": "python2.7"
  },
  "language_info": {
   "codemirror_mode": {
    "name": "ipython",
    "version": 2
   },
   "file_extension": ".py",
   "mimetype": "text/x-python",
   "name": "python",
   "nbconvert_exporter": "python",
   "pygments_lexer": "ipython2",
   "version": "2.7.15"
  }
 },
 "nbformat": 4,
 "nbformat_minor": 2
}
