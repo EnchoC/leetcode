{
 "cells": [
  {
   "cell_type": "markdown",
   "metadata": {},
   "source": [
    "https://leetcode.com/problems/combination-sum-ii/"
   ]
  },
  {
   "cell_type": "code",
   "execution_count": null,
   "metadata": {},
   "outputs": [],
   "source": [
    "Given a collection of candidate numbers (candidates) and a target number (target), \n",
    "find all unique combinations in candidates where the candidate numbers sums to target.\n",
    "\n",
    "Each number in candidates may only be used once in the combination.\n",
    "\n",
    "Note:\n",
    "\n",
    "All numbers (including target) will be positive integers.\n",
    "The solution set must not contain duplicate combinations.\n",
    "Example 1:\n",
    "\n",
    "Input: candidates = [10,1,2,7,6,1,5], target = 8,\n",
    "A solution set is:\n",
    "[\n",
    "  [1, 7],\n",
    "  [1, 2, 5],\n",
    "  [2, 6],\n",
    "  [1, 1, 6]\n",
    "]\n",
    "Example 2:\n",
    "\n",
    "Input: candidates = [2,5,2,1,2], target = 5,\n",
    "A solution set is:\n",
    "[\n",
    "  [1,2,2],\n",
    "  [5]\n",
    "]"
   ]
  },
  {
   "cell_type": "code",
   "execution_count": 22,
   "metadata": {},
   "outputs": [
    {
     "data": {
      "text/plain": [
       "[[1, 1, 6], [1, 2, 5], [1, 7], [2, 6]]"
      ]
     },
     "execution_count": 22,
     "metadata": {},
     "output_type": "execute_result"
    }
   ],
   "source": [
    "# 相比上一题，区别是不能重复使用元素\n",
    "class Solution(object):\n",
    "    def combinationSum2(self, candidates, target):\n",
    "        \"\"\"\n",
    "        :type candidates: List[int]\n",
    "        :type target: int\n",
    "        :rtype: List[List[int]]\n",
    "        \"\"\"\n",
    "        def dfs(candidates, target, s, curr, ans):\n",
    "            \"\"\"\n",
    "            :params candidates: 所有元素\n",
    "            :params target: 目标\n",
    "            :params s: 初始元素\n",
    "            :params curr: 当前使用的数组\n",
    "            :params ans: 答案\n",
    "            \"\"\"\n",
    "            # 终止条件\n",
    "            if target == 0: \n",
    "                ans.append(curr[:])\n",
    "                return\n",
    "            if target < candidates[0]:\n",
    "                return\n",
    "            for i in xrange(s, n): # 从s开始到n\n",
    "                if candidates[i] > target: return # 去掉大于target的解\n",
    "                if (i > s and candidates[i]==candidates[i-1]): continue # 防止出现重复项\n",
    "                curr.append(candidates[i])\n",
    "                dfs(candidates, target-candidates[i], i+1, curr, ans) # 搜索下一层，改为i+1，避免使用重复数字\n",
    "                curr.pop()\n",
    "        \n",
    "        n = len(candidates)\n",
    "        res = []\n",
    "        candidates.sort()\n",
    "        dfs(candidates, target, 0, [], res)\n",
    "        return res\n",
    "candidates = [10,1,2,7,6,1,5]\n",
    "target = 8\n",
    "model = Solution()\n",
    "model.combinationSum2(candidates, target)"
   ]
  },
  {
   "cell_type": "code",
   "execution_count": null,
   "metadata": {},
   "outputs": [],
   "source": []
  }
 ],
 "metadata": {
  "kernelspec": {
   "display_name": "Python 2",
   "language": "python",
   "name": "python2"
  },
  "language_info": {
   "codemirror_mode": {
    "name": "ipython",
    "version": 2
   },
   "file_extension": ".py",
   "mimetype": "text/x-python",
   "name": "python",
   "nbconvert_exporter": "python",
   "pygments_lexer": "ipython2",
   "version": "2.7.15"
  }
 },
 "nbformat": 4,
 "nbformat_minor": 2
}
