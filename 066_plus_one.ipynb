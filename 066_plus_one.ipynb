{
 "cells": [
  {
   "cell_type": "markdown",
   "metadata": {},
   "source": [
    "https://github.com/apachecn/awesome-algorithm/blob/master/docs/Leetcode_Solutions/Python/066._plus_one.md"
   ]
  },
  {
   "cell_type": "raw",
   "metadata": {},
   "source": [
    "Given a non-empty array of digits representing a non-negative integer, plus one to the integer.\n",
    "\n",
    "The digits are stored such that the most significant digit is at the head of the list, and each element in the array contain a single digit.\n",
    "\n",
    "You may assume the integer does not contain any leading zero, except the number 0 itself.\n",
    "\n",
    "Example 1:\n",
    "\n",
    "Input: [1,2,3]\n",
    "Output: [1,2,4]\n",
    "Explanation: The array represents the integer 123.\n",
    "Example 2:\n",
    "\n",
    "Input: [4,3,2,1]\n",
    "Output: [4,3,2,2]\n",
    "Explanation: The array represents the integer 4321."
   ]
  },
  {
   "cell_type": "code",
   "execution_count": 3,
   "metadata": {},
   "outputs": [],
   "source": [
    "class Solution(object):\n",
    "    def plusOne(self, digits):\n",
    "        \"\"\"\n",
    "        :type digits: List[int]\n",
    "        :rtype: List[int]\n",
    "        \"\"\"\n",
    "        if not digits: return [1]\n",
    "        if digits[-1] < 9:\n",
    "            return digits[:-1] + [digits[-1]+1]\n",
    "        else:\n",
    "            return self.plusOne(digits[:-1]) + [0]"
   ]
  },
  {
   "cell_type": "code",
   "execution_count": 19,
   "metadata": {},
   "outputs": [
    {
     "name": "stdout",
     "output_type": "stream",
     "text": [
      "3\n",
      "2\n",
      "1\n",
      "0\n",
      "[0, 0, 0, 0] 1\n"
     ]
    },
    {
     "data": {
      "text/plain": [
       "[1, 0, 0, 0, 0]"
      ]
     },
     "execution_count": 19,
     "metadata": {},
     "output_type": "execute_result"
    }
   ],
   "source": [
    "class Solution:\n",
    "    @classmethod\n",
    "    def plusOne(self, digits):\n",
    "        \"\"\"\n",
    "        :type digits: List[int]\n",
    "        :rtype: List[int]\n",
    "        \"\"\"\n",
    "        carry = 1\n",
    "        for i in range(len(digits)-1, -1, -1):\n",
    "            print i\n",
    "            digits[i] += carry\n",
    "            if digits[i] < 10:\n",
    "                carry = 0\n",
    "                break\n",
    "            else:\n",
    "                digits[i] = 0\n",
    "        print digits,carry\n",
    "        return [1] + digits if carry == 1 else digits\n",
    "digits = [4,3,9,9]\n",
    "digits = [9,9,9,9]\n",
    "Solution.plusOne(digits)"
   ]
  },
  {
   "cell_type": "code",
   "execution_count": null,
   "metadata": {},
   "outputs": [],
   "source": []
  }
 ],
 "metadata": {
  "kernelspec": {
   "display_name": "Python 2",
   "language": "python",
   "name": "python2"
  },
  "language_info": {
   "codemirror_mode": {
    "name": "ipython",
    "version": 2
   },
   "file_extension": ".py",
   "mimetype": "text/x-python",
   "name": "python",
   "nbconvert_exporter": "python",
   "pygments_lexer": "ipython2",
   "version": "2.7.15"
  }
 },
 "nbformat": 4,
 "nbformat_minor": 2
}
