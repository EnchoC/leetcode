{
 "cells": [
  {
   "cell_type": "markdown",
   "metadata": {},
   "source": [
    "https://leetcode.com/problems/minimum-moves-to-equal-array-elements-ii/"
   ]
  },
  {
   "cell_type": "code",
   "execution_count": null,
   "metadata": {},
   "outputs": [],
   "source": [
    "Given a non-empty integer array, \n",
    "find the minimum number of moves required to make all array elements equal, \n",
    "where a move is incrementing a selected element by 1 or decrementing a selected element by 1.\n",
    "\n",
    "You may assume the array's length is at most 10,000.\n",
    "\n",
    "Example:\n",
    "\n",
    "Input:\n",
    "[1,2,3]\n",
    "\n",
    "Output:\n",
    "2\n",
    "\n",
    "Explanation:\n",
    "Only two moves are needed (remember each move increments or decrements one element):\n",
    "\n",
    "[1,2,3]  =>  [2,2,3]  =>  [2,2,2]"
   ]
  },
  {
   "cell_type": "code",
   "execution_count": 3,
   "metadata": {},
   "outputs": [
    {
     "data": {
      "text/plain": [
       "9"
      ]
     },
     "execution_count": 3,
     "metadata": {},
     "output_type": "execute_result"
    }
   ],
   "source": [
    "class Solution:\n",
    "    def minMoves2(self, nums):\n",
    "        nums_sorted = sorted(nums)\n",
    "        mid = len(nums) // 2\n",
    "        midnum = nums_sorted[mid]\n",
    "        res = 0\n",
    "        for num in nums_sorted:\n",
    "            res += abs(num - midnum)\n",
    "        res = int(res)\n",
    "        return res\n",
    "model = Solution()\n",
    "nums = [1,2,5,7]\n",
    "model.minMoves2(nums)"
   ]
  },
  {
   "cell_type": "code",
   "execution_count": 4,
   "metadata": {},
   "outputs": [
    {
     "data": {
      "text/plain": [
       "9"
      ]
     },
     "execution_count": 4,
     "metadata": {},
     "output_type": "execute_result"
    }
   ],
   "source": [
    "class Solution:\n",
    "    def minMoves2(self, nums):\n",
    "        nums.sort()\n",
    "        res = 0\n",
    "        i = 0\n",
    "        j = len(nums)-1\n",
    "        while i<j:\n",
    "            res += nums[j] - nums[i]\n",
    "            j -= 1\n",
    "            i += 1\n",
    "        return res\n",
    "        \n",
    "model = Solution()\n",
    "nums = [1,2,5,7]\n",
    "model.minMoves2(nums)"
   ]
  }
 ],
 "metadata": {
  "kernelspec": {
   "display_name": "Python2.7",
   "language": "python",
   "name": "python2.7"
  },
  "language_info": {
   "codemirror_mode": {
    "name": "ipython",
    "version": 2
   },
   "file_extension": ".py",
   "mimetype": "text/x-python",
   "name": "python",
   "nbconvert_exporter": "python",
   "pygments_lexer": "ipython2",
   "version": "2.7.15"
  }
 },
 "nbformat": 4,
 "nbformat_minor": 2
}
