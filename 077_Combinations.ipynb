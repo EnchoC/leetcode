{
 "cells": [
  {
   "cell_type": "markdown",
   "metadata": {},
   "source": [
    "[题目分类](https://docs.google.com/spreadsheets/d/1SbpY-04Cz8EWw3A_LBUmDEXKUMO31DBjfeMoA0dlfIA/edit#gid=932160389)"
   ]
  },
  {
   "cell_type": "markdown",
   "metadata": {},
   "source": [
    "https://leetcode.com/problems/combinations/"
   ]
  },
  {
   "cell_type": "markdown",
   "metadata": {},
   "source": [
    "Given two integers n and k, \n",
    "return all possible combinations of k numbers out of 1 ... n.\n",
    "\n",
    "Example:\n",
    "\n",
    "Input: n = 4, k = 2\n",
    "Output:\n",
    "[\n",
    "  [2,4],\n",
    "  [3,4],\n",
    "  [2,3],\n",
    "  [1,2],\n",
    "  [1,3],\n",
    "  [1,4],\n",
    "]"
   ]
  },
  {
   "cell_type": "code",
   "execution_count": 5,
   "metadata": {},
   "outputs": [
    {
     "data": {
      "text/plain": [
       "array([[1, 2],\n",
       "       [1, 3],\n",
       "       [1, 4],\n",
       "       [2, 3],\n",
       "       [2, 4],\n",
       "       [3, 4]])"
      ]
     },
     "execution_count": 5,
     "metadata": {},
     "output_type": "execute_result"
    }
   ],
   "source": [
    "# python 自带函数编写\n",
    "import itertools\n",
    "import numpy as np\n",
    "class Solution(object):\n",
    "    def combine(self, n, k):\n",
    "        \"\"\"\n",
    "        :type n: int\n",
    "        :type k: int\n",
    "        :rtype: List[List[int]]\n",
    "        \"\"\"\n",
    "        return [list(i) for i in itertools.combinations(range(1,n+1), k)]\n",
    "n, k = 4,2\n",
    "model = Solution()\n",
    "np.array(model.combine(n,k))"
   ]
  },
  {
   "cell_type": "markdown",
   "metadata": {},
   "source": [
    "itertools.combinations（iterable，r） \n",
    "- 這個工具返回輸入可迭代的元素的長度子序列\n",
    "- 組合以字典排序順序發出。\n",
    "- 如果對輸入iterable進行排序，則將按排序順序生成組合元組。"
   ]
  },
  {
   "cell_type": "code",
   "execution_count": null,
   "metadata": {},
   "outputs": [],
   "source": [
    "# 类似的试题\n",
    "You are given a string. \n",
    "Your task is to print all possible combinations, up to size  ,\n",
    "of the string in lexicographic sorted order.\n",
    "\n",
    "Input Format\n",
    "\n",
    "A single line containing the string  and integer value  separated by a space.\n",
    "\n",
    "Constraints\n",
    "\n",
    "\n",
    "The string contains only UPPERCASE characters.\n",
    "\n",
    "Output Format\n",
    "\n",
    "Print the different combinations of string  on separate lines.\n",
    "\n",
    "Sample Input\n",
    "\n",
    " HACK 2 \n",
    "Sample Output\n",
    "\n",
    " A C H K AC AH AK CH CK HK"
   ]
  },
  {
   "cell_type": "code",
   "execution_count": 30,
   "metadata": {},
   "outputs": [
    {
     "data": {
      "text/plain": [
       "array(['B', 'H', 'A', 'C', 'K', 'J', 'BH', 'BA', 'BC', 'BK', 'BJ', 'HA',\n",
       "       'HC', 'HK', 'HJ', 'AC', 'AK', 'AJ', 'CK', 'CJ', 'KJ', 'BHA', 'BHC',\n",
       "       'BHK', 'BHJ', 'BAC', 'BAK', 'BAJ', 'BCK', 'BCJ', 'BKJ', 'HAC',\n",
       "       'HAK', 'HAJ', 'HCK', 'HCJ', 'HKJ', 'ACK', 'ACJ', 'AKJ', 'CKJ',\n",
       "       'BHAC', 'BHAK', 'BHAJ', 'BHCK', 'BHCJ', 'BHKJ', 'BACK', 'BACJ',\n",
       "       'BAKJ', 'BCKJ', 'HACK', 'HACJ', 'HAKJ', 'HCKJ', 'ACKJ'],\n",
       "      dtype='|S4')"
      ]
     },
     "execution_count": 30,
     "metadata": {},
     "output_type": "execute_result"
    }
   ],
   "source": [
    "# 注意这里是没有去重的处理的\n",
    "# 假若n是包含相同的字母的话，需要注意一下\n",
    "import itertools\n",
    "import numpy as np\n",
    "class Solution(object):\n",
    "    def combine(self, s, k):\n",
    "        \"\"\"\n",
    "        :type s: str\n",
    "        :type k: int\n",
    "        :rtype: List[List[str]]\n",
    "        \"\"\"\n",
    "        res = []\n",
    "        for j in range(1,k+1):\n",
    "            res += [''.join(i) for i in itertools.combinations(s, j)]\n",
    "        return res\n",
    "n, k = 'BHACKJ',4\n",
    "model = Solution()\n",
    "np.array(model.combine(n,k))"
   ]
  },
  {
   "cell_type": "code",
   "execution_count": 22,
   "metadata": {},
   "outputs": [
    {
     "data": {
      "text/plain": [
       "array([[1, 2],\n",
       "       [1, 3],\n",
       "       [1, 4],\n",
       "       [2, 3],\n",
       "       [2, 4],\n",
       "       [3, 4]])"
      ]
     },
     "execution_count": 22,
     "metadata": {},
     "output_type": "execute_result"
    }
   ],
   "source": [
    "# DFS深度优先算法\n",
    "import numpy as np\n",
    "class Solution(object):\n",
    "    def combine(self, n, k):\n",
    "        \"\"\"\n",
    "        :type n: int\n",
    "        :type k: int\n",
    "        :rtype: List[List[int]]\n",
    "        \"\"\"\n",
    "        def dfs(cur_num, idx):\n",
    "            \"\"\"\n",
    "            :param cur_num: list[int] 最近的数组 \n",
    "            :param idx: int 当前的数字\n",
    "            \"\"\"\n",
    "            if len(cur_num) == k:\n",
    "                self.res.append(cur_num)\n",
    "                return\n",
    "            if idx == n+1: return # 防止越界\n",
    "            dfs(cur_num+[idx], idx+1)\n",
    "            dfs(cur_num, idx+1)\n",
    "        self.res = []\n",
    "        dfs([], 1)\n",
    "        return self.res\n",
    "n, k = 4,2\n",
    "model = Solution()\n",
    "np.array(model.combine(n,k))"
   ]
  },
  {
   "cell_type": "code",
   "execution_count": 36,
   "metadata": {},
   "outputs": [
    {
     "data": {
      "text/plain": [
       "array(['HACK', 'HACJ', 'HAKJ', 'HCKJ', 'ACKJ'], dtype='|S4')"
      ]
     },
     "execution_count": 36,
     "metadata": {},
     "output_type": "execute_result"
    }
   ],
   "source": [
    "# 用DFS解决上面的问题\n",
    "import numpy as np\n",
    "class Solution(object):\n",
    "    def combine(self, s, k):\n",
    "        \"\"\"\n",
    "        :type s: str\n",
    "        :type k: int\n",
    "        :rtype: List[List[int]]\n",
    "        \"\"\"\n",
    "        def dfs(cur_str, id):\n",
    "            \"\"\"\n",
    "            TODO\n",
    "            \"\"\"\n",
    "            if len(cur_str) == k:\n",
    "                self.res.append(cur_str)\n",
    "                return \n",
    "            if id == len(s): return\n",
    "            dfs(cur_str+s[id], id+1)\n",
    "            dfs(cur_str, id+1)\n",
    "        self.res = []\n",
    "        dfs('', 1)\n",
    "        return self.res\n",
    "n, k = 'BHACKJ',4\n",
    "model = Solution()\n",
    "np.array(model.combine(n,k))\n",
    "\n",
    "# em...不怎么会，再想想蛤！~"
   ]
  },
  {
   "cell_type": "code",
   "execution_count": null,
   "metadata": {},
   "outputs": [],
   "source": []
  }
 ],
 "metadata": {
  "kernelspec": {
   "display_name": "Python 2",
   "language": "python",
   "name": "python2"
  },
  "language_info": {
   "codemirror_mode": {
    "name": "ipython",
    "version": 2
   },
   "file_extension": ".py",
   "mimetype": "text/x-python",
   "name": "python",
   "nbconvert_exporter": "python",
   "pygments_lexer": "ipython2",
   "version": "2.7.15"
  }
 },
 "nbformat": 4,
 "nbformat_minor": 2
}
