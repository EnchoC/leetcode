{
 "cells": [
  {
   "cell_type": "markdown",
   "metadata": {},
   "source": [
    "https://leetcode.com/problems/my-calendar-iii/"
   ]
  },
  {
   "cell_type": "code",
   "execution_count": null,
   "metadata": {},
   "outputs": [],
   "source": [
    "Implement a MyCalendarThree class to store your events. A new event can always be added.\n",
    "\n",
    "Your class will have one method, book(int start, int end). Formally, this represents a booking on the half open interval [start, end), the range of real numbers x such that start <= x < end.\n",
    "\n",
    "A K-booking happens when K events have some non-empty intersection (ie., there is some time that is common to all K events.)\n",
    "\n",
    "For each call to the method MyCalendar.book, return an integer K representing the largest integer such that there exists a K-booking in the calendar.\n",
    "\n",
    "Your class will be called like this: MyCalendarThree cal = new MyCalendarThree(); MyCalendarThree.book(start, end)\n",
    "Example 1:\n",
    "\n",
    "MyCalendarThree();\n",
    "MyCalendarThree.book(10, 20); // returns 1\n",
    "MyCalendarThree.book(50, 60); // returns 1\n",
    "MyCalendarThree.book(10, 40); // returns 2\n",
    "MyCalendarThree.book(5, 15); // returns 3\n",
    "MyCalendarThree.book(5, 10); // returns 3\n",
    "MyCalendarThree.book(25, 55); // returns 3\n",
    "Explanation: \n",
    "The first two events can be booked and are disjoint, so the maximum K-booking is a 1-booking.\n",
    "The third event [10, 40) intersects the first event, and the maximum K-booking is a 2-booking.\n",
    "The remaining events cause the maximum K-booking to be only a 3-booking.\n",
    "Note that the last event locally causes a 2-booking, but the answer is still 3 because\n",
    "eg. [10, 20), [10, 40), and [5, 15) are still triple booked.\n",
    " \n",
    "\n",
    "Note:\n",
    "\n",
    "The number of calls to MyCalendarThree.book per test case will be at most 400.\n",
    "In calls to MyCalendarThree.book(start, end), start and end are integers in the range [0, 10^9].\n"
   ]
  },
  {
   "cell_type": "code",
   "execution_count": null,
   "metadata": {},
   "outputs": [],
   "source": [
    "# 中文\n",
    "实现一个 MyCalendar 类来存放你的日程安排，你可以一直添加新的日程安排。\n",
    "\n",
    "MyCalendar 有一个 book(int start, int end)方法。它意味着在start到end时间内增加一个日程安排，注意，这里的时间是半开区间，即 [start, end), 实数 x 的范围为，  start <= x < end。\n",
    "\n",
    "当 K 个日程安排有一些时间上的交叉时（例如K个日程安排都在同一时间内），就会产生 K 次预订。\n",
    "\n",
    "每次调用 MyCalendar.book方法时，返回一个整数 K ，表示最大的 K 次预订。\n",
    "\n",
    "请按照以下步骤调用MyCalendar 类: MyCalendar cal = new MyCalendar(); MyCalendar.book(start, end)"
   ]
  },
  {
   "cell_type": "markdown",
   "metadata": {},
   "source": [
    "[imos法](http://www.hankcs.com/program/algorithm/imos_method.html)介绍，[原文](http://imoz.jp/algorithms/imos_method.html)\n",
    "\n",
    "imos法，或者叫图解法\n",
    "\n",
    "思路：只统计出入店时刻的人数变化，入加一，出减一，最后累加每个时刻的统计量，得出其最大值"
   ]
  },
  {
   "cell_type": "code",
   "execution_count": 2,
   "metadata": {},
   "outputs": [],
   "source": [
    "import collections\n",
    "class MyCalendarThree(object):\n",
    "    def __init__(self):\n",
    "        self.book_list = collections.defaultdict(int)\n",
    "    def book(self, start, end):\n",
    "        self.book_list[start] += 1\n",
    "        self.book_list[end] -= 1\n",
    "        tmp = out = 0\n",
    "        for k,v in sorted(self.book_list.items()):\n",
    "            out += v\n",
    "            if out > tmp:\n",
    "                tmp = out\n",
    "        return tmp"
   ]
  },
  {
   "cell_type": "code",
   "execution_count": 3,
   "metadata": {},
   "outputs": [],
   "source": [
    "# 大神解法，暂时还看不懂。。。\n",
    "class MyCalendarThree(object):\n",
    "    def __init__(self):\n",
    "        self.starts = []\n",
    "        self.ends = []\n",
    "        self.rooms = 0\n",
    "    def book(self, start, end):\n",
    "        import bisect\n",
    "        # 先插入到对应的start 和 end\n",
    "        bisect.insort(self.starts,start)\n",
    "        bisect.insort(self.ends,end)\n",
    "        # 获取当前左右的索引\n",
    "        r = bisect.bisect_right(self.starts,end)\n",
    "        l = bisect.bisect_left(self.ends,start)\n",
    "        i,j = l,l\n",
    "        res = 0\n",
    "        while i < r and j < r:\n",
    "            if self.starts[i] < self.ends[j]:\n",
    "                res += 1\n",
    "                i += 1\n",
    "            else:\n",
    "                i += 1\n",
    "                j += 1\n",
    "        self.rooms = max(self.rooms,res)\n",
    "        return self.rooms"
   ]
  },
  {
   "cell_type": "code",
   "execution_count": 4,
   "metadata": {},
   "outputs": [],
   "source": [
    "# 惰性传播\n",
    "import collections\n",
    "class MyCalendarThree(object):\n",
    "    def __init__(self):\n",
    "        # 节点值\n",
    "        self.seg = collections.defaultdict(int)\n",
    "        # 惰性树存储的当前节点值\n",
    "        self.lazy = collections.defaultdict(int)\n",
    "    def book(self, start, end):\n",
    "        def update(s, e, l = 0, r = 10**9, ID = 1):\n",
    "            if r <= s or e <= l: return \n",
    "            # 区间满足所给的start到end范围\n",
    "            if s <= l < r <= e:\n",
    "                self.seg[ID] += 1\n",
    "                self.lazy[ID] += 1\n",
    "            else:\n",
    "                # 折半更新区间段\n",
    "                m = (l + r) // 2\n",
    "                update(s, e, l, m, 2 * ID)\n",
    "                update(s, e, m, r, 2*ID+1)\n",
    "                # 更新当前节点，通过惰性树中的值与左右孩子值进行更新。\n",
    "                self.seg[ID] = self.lazy[ID] + max(self.seg[2*ID], self.seg[2*ID+1])\n",
    "        update(start, end)\n",
    "        return self.seg[1]"
   ]
  },
  {
   "cell_type": "code",
   "execution_count": 2,
   "metadata": {},
   "outputs": [],
   "source": [
    "# 线段树，从下面一个博客中学来\n",
    "class Node:\n",
    "    def __init__(self, l, r, count):\n",
    "        self.left = None # 左节点\n",
    "        self.right = None # 右节点\n",
    "        self.count = count\n",
    "        self.m = -1 # -1代表被分割，其他数代表分割点\n",
    "        self.l = l # [l,XX)\n",
    "        self.r = r # [r, XX)\n",
    "        \n",
    "class MyCalendarThree(object):\n",
    "    def __init__(self):\n",
    "        self.root = Node(0, 10**9, 0)\n",
    "        self.max = 0\n",
    "        \n",
    "    def book(self, start, end):\n",
    "        self.add(start, end, self.root)\n",
    "        return self.max\n",
    "    \n",
    "    def add(self, start, end, root):\n",
    "        if root.m != -1: # 被分割过\n",
    "            if end <= root.m: self.add(start, end, root.left) # end->m->r 则往左叶子方向\n",
    "            elif start >= root.m: self.add(start, end, root.right) # l->m->start 则往右叶子方向\n",
    "            else: # start->m->end 左右切分\n",
    "                self.add(start, root.m, root.left)\n",
    "                self.add(root.m, end, root.right)\n",
    "            return\n",
    "        if start == root.l and end == root.r:\n",
    "            root.count += 1\n",
    "            self.max = max(self.max, root.count)\n",
    "        elif start == root.l:\n",
    "            root.m = end\n",
    "            root.left = Node(start, root.m, root.count+1)\n",
    "            root.right = Node(root.m, root.r, root.count)\n",
    "            self.max = max(self.max, root.count+1)\n",
    "        elif end == root.r:\n",
    "            root.m = start\n",
    "            root.left = Node(root.l, root.m, root.count)\n",
    "            root.right = Node(root.m, end, root.count+1)\n",
    "            self.max = max(self.max, root.count+1)\n",
    "        else:\n",
    "            root.m = start\n",
    "            root.left = Node(root.l, root.m, root.count)\n",
    "            root.right = Node(root.m, root.r, root.count)\n",
    "            self.add(start, end, root.right)"
   ]
  },
  {
   "cell_type": "markdown",
   "metadata": {},
   "source": [
    "[<img src='images/732_My_Calendar_III_1.png'>](https://zxi.mytechroad.com/blog/geometry/732-my-calendar-iii/)"
   ]
  },
  {
   "cell_type": "code",
   "execution_count": null,
   "metadata": {},
   "outputs": [],
   "source": []
  }
 ],
 "metadata": {
  "kernelspec": {
   "display_name": "Python 2",
   "language": "python",
   "name": "python2"
  },
  "language_info": {
   "codemirror_mode": {
    "name": "ipython",
    "version": 2
   },
   "file_extension": ".py",
   "mimetype": "text/x-python",
   "name": "python",
   "nbconvert_exporter": "python",
   "pygments_lexer": "ipython2",
   "version": "2.7.15"
  }
 },
 "nbformat": 4,
 "nbformat_minor": 2
}
