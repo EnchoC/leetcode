{
 "cells": [
  {
   "cell_type": "markdown",
   "metadata": {},
   "source": [
    "https://github.com/apachecn/awesome-algorithm/blob/master/docs/Leetcode_Solutions/Python/018._4sum.md"
   ]
  },
  {
   "cell_type": "raw",
   "metadata": {},
   "source": [
    "Given an array nums of n integers and an integer target, are there elements a, b, c, and d in nums such that a + b + c + d = target? Find all unique quadruplets in the array which gives the sum of target.\n",
    "\n",
    "Note:\n",
    "\n",
    "The solution set must not contain duplicate quadruplets.\n",
    "\n",
    "Example:\n",
    "\n",
    "Given array nums = [1, 0, -1, 0, -2, 2], and target = 0.\n",
    "\n",
    "A solution set is:\n",
    "[\n",
    "  [-1,  0, 0, 1],\n",
    "  [-2, -1, 1, 2],\n",
    "  [-2,  0, 0, 2]\n",
    "]"
   ]
  },
  {
   "cell_type": "code",
   "execution_count": 7,
   "metadata": {},
   "outputs": [
    {
     "data": {
      "text/plain": [
       "[[-2, -1, 1, 2], [-2, 0, 0, 2], [-1, 0, 0, 1]]"
      ]
     },
     "execution_count": 7,
     "metadata": {},
     "output_type": "execute_result"
    }
   ],
   "source": [
    "class Solution:\n",
    "    @classmethod\n",
    "    def fourSum(self, nums, target):\n",
    "        \"\"\"\n",
    "        :type nums: List[int]\n",
    "        :type target: int\n",
    "        :rtype: List[List[int]]\n",
    "        \"\"\"\n",
    "        rlist = []\n",
    "        nums.sort()\n",
    "        n = len(nums)\n",
    "        for i in xrange(n):\n",
    "            for j in xrange(i+1, n):\n",
    "                l, r = j+1, n-1\n",
    "                while l<r:\n",
    "                    sums = nums[i]+nums[j]+nums[l]+nums[r] - target\n",
    "                    if sums>0:\n",
    "                        r -= 1\n",
    "                    elif sums<0:\n",
    "                        l += 1\n",
    "                    else:\n",
    "                        if [nums[i], nums[j], nums[l], nums[r]] not in rlist:\n",
    "                            rlist.append([nums[i], nums[j], nums[l], nums[r]])\n",
    "                            while l<r and nums[r] == nums[r-1]:\n",
    "                                r -= 1\n",
    "                            while l<r and nums[l] == nums[l+1]:\n",
    "                                l += 1\n",
    "                        r -= 1\n",
    "                        l += 1\n",
    "        return rlist\n",
    "nums = [1,0,-1,0,-2,2]; target = 0\n",
    "Solution.fourSum(nums, target)"
   ]
  },
  {
   "cell_type": "markdown",
   "metadata": {},
   "source": [
    "#### N-sum(N>2)"
   ]
  },
  {
   "cell_type": "code",
   "execution_count": 6,
   "metadata": {},
   "outputs": [
    {
     "data": {
      "text/plain": [
       "[[-2, -1, 1, 2], [-2, 0, 0, 2], [-1, 0, 0, 1]]"
      ]
     },
     "execution_count": 6,
     "metadata": {},
     "output_type": "execute_result"
    }
   ],
   "source": [
    "class Solution(object):\n",
    "    def fourSum(self, nums, target):\n",
    "        \"\"\"\n",
    "        :type nums: List[int]\n",
    "        :type target: int\n",
    "        :rtype: List[List[int]]\n",
    "        \"\"\"\n",
    "        res = []; nums.sort()\n",
    "        self.helper(0, nums, target, [], res, 4)\n",
    "        return res\n",
    "    \n",
    "    def helper(self, start, nums, target, path, res, level):\n",
    "        if not nums or nums[0]*level>target or nums[-1]*level<target:\n",
    "            return \n",
    "        if level == 2:\n",
    "            l = start; r = len(nums)-1\n",
    "            while l<r:\n",
    "                sums = nums[l] + nums[r]\n",
    "                if sums > target: r -= 1\n",
    "                elif sums < target: l += 1\n",
    "                else:\n",
    "                    if (l == start or nums[l] != nums[l-1]) and (r == len(nums)-1 or nums[r] != nums[r+1]):\n",
    "                        res.append(path + [nums[l], nums[r]])\n",
    "                    l += 1\n",
    "                    r -= 1\n",
    "            return\n",
    "        for index in xrange(start, len(nums)-2):\n",
    "            if nums[index] > target/level: break\n",
    "            if (index == start or nums[index] != nums[index-1]):\n",
    "                self.helper(index+1, nums, target-nums[index], path+[nums[index]], res, level-1)\n",
    "nums = [1,0,-1,0,-2,2]; target = 0\n",
    "model = Solution()\n",
    "model.fourSum(nums, target)"
   ]
  },
  {
   "cell_type": "code",
   "execution_count": null,
   "metadata": {},
   "outputs": [],
   "source": []
  }
 ],
 "metadata": {
  "kernelspec": {
   "display_name": "Python 2",
   "language": "python",
   "name": "python2"
  },
  "language_info": {
   "codemirror_mode": {
    "name": "ipython",
    "version": 2
   },
   "file_extension": ".py",
   "mimetype": "text/x-python",
   "name": "python",
   "nbconvert_exporter": "python",
   "pygments_lexer": "ipython2",
   "version": "2.7.15"
  }
 },
 "nbformat": 4,
 "nbformat_minor": 2
}
