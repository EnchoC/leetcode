{
 "cells": [
  {
   "cell_type": "markdown",
   "metadata": {},
   "source": [
    "There are two sorted arrays nums1 and nums2 of size m and n respectively.\n",
    "\n",
    "Find the median of the two sorted arrays. The overall run time complexity should be O(log (m+n)).\n",
    "\n",
    "You may assume nums1 and nums2 cannot be both empty.\n",
    "\n",
    "------------------\n",
    "Example 1:\n",
    "\n",
    "nums1 = [1, 3], nums2 = [2]\n",
    "\n",
    "The median is 2.0\n",
    "\n",
    "------------------\n",
    "\n",
    "Example 2:\n",
    "\n",
    "nums1 = [1, 2], nums2 = [3, 4]\n",
    "\n",
    "The median is (2 + 3)/2 = 2.5"
   ]
  },
  {
   "cell_type": "markdown",
   "metadata": {},
   "source": [
    "### O(m+n)"
   ]
  },
  {
   "cell_type": "code",
   "execution_count": 33,
   "metadata": {},
   "outputs": [
    {
     "data": {
      "text/plain": [
       "6.5"
      ]
     },
     "execution_count": 33,
     "metadata": {},
     "output_type": "execute_result"
    }
   ],
   "source": [
    "class Solution(object):\n",
    "    def findMedianSortedArrays(self, nums1, nums2):\n",
    "        \"\"\"\n",
    "        :type nums1: List[int]\n",
    "        :type nums2: List[int]\n",
    "        :rtype: float\n",
    "        \"\"\"\n",
    "        def findKth(A, pa, B, pb, k):\n",
    "            \"\"\"\n",
    "            :type A: List[int]\n",
    "            :type B: List[int]\n",
    "            :type pa: int, init index of A\n",
    "            :tpye pb: int, init index of B\n",
    "            :type k: int, index you want to find in two array to one sort array\n",
    "            \"\"\"\n",
    "            m = 0; rmsg = 0\n",
    "            while pa < len(A) and pb < len(B) and m < k:\n",
    "                if A[pa] < B[pb]:\n",
    "                    rmsg = A[pa]\n",
    "                    pa += 1\n",
    "                else:\n",
    "                    rmsg = B[pb]\n",
    "                    pb += 1\n",
    "                m += 1\n",
    "            while pa < len(A) and m < k:\n",
    "                rmsg = A[pa]\n",
    "                m +=1 \n",
    "                pa += 1\n",
    "            while pb < len(B) and m < k:\n",
    "                rmsg = B[pb]\n",
    "                m += 1\n",
    "                pb +=1\n",
    "            return rmsg\n",
    "        \n",
    "        n = len(nums1) + len(nums2)\n",
    "        if n % 2 == 1:\n",
    "            return findKth(nums1 , 0, nums2, 0, n/2+1)\n",
    "        else:\n",
    "            smaller = findKth(nums1, 0, nums2, 0, n/2)\n",
    "            bigger = findKth(nums1, 0, nums2, 0, n/2+1)\n",
    "            return (smaller + bigger)/2.0\n",
    "            \n",
    "num1 = [1,2,5,10]; num2 = [3,8,45,93]\n",
    "model = Solution()\n",
    "model.findMedianSortedArrays(num1, num2)"
   ]
  },
  {
   "cell_type": "code",
   "execution_count": 37,
   "metadata": {},
   "outputs": [
    {
     "data": {
      "text/plain": [
       "6.5"
      ]
     },
     "execution_count": 37,
     "metadata": {},
     "output_type": "execute_result"
    }
   ],
   "source": [
    "class Solution(object):\n",
    "    def findMedianSortedArrays(self, nums1, nums2):\n",
    "        \"\"\"\n",
    "        :type nums1: List[int]\n",
    "        :type nums2: List[int]\n",
    "        :rtype: float\n",
    "        \"\"\"\n",
    "        def findKth(A, B, k):\n",
    "            \"\"\"\n",
    "            :type A: List[int]\n",
    "            :type B: List[int]\n",
    "            :type k: int, index you want to find in two array to one sort array\n",
    "            \"\"\"\n",
    "            if len(A) == 0:\n",
    "                return B[k-1]\n",
    "            if len(B) == 0:\n",
    "                return A[k-1]\n",
    "            if k == 1:\n",
    "                return min(A[0], B[0])\n",
    "\n",
    "            a = A[k / 2 - 1] if len(A) >= k / 2 else None\n",
    "            b = B[k / 2 - 1] if len(B) >= k / 2 else None\n",
    "\n",
    "            if b is None or (a is not None and a < b):\n",
    "                return findKth(A[k / 2:], B, k - k / 2)\n",
    "            return findKth(A, B[k / 2:], k - k / 2) \n",
    "        n = len(nums1) + len(nums2)\n",
    "        if n % 2 == 1:\n",
    "            return findKth(nums1, nums2, n / 2 + 1)\n",
    "        else:\n",
    "            smaller = findKth(nums1, nums2, n / 2)\n",
    "            bigger = findKth(nums1, nums2, n / 2 + 1)\n",
    "            return (smaller + bigger) / 2.0\n",
    "num1 = [1,2,5,10]; num2 = [3,8,45,93]\n",
    "model = Solution()\n",
    "model.findMedianSortedArrays(num1, num2)"
   ]
  },
  {
   "cell_type": "markdown",
   "metadata": {},
   "source": [
    "### 查找中位数，单个数组"
   ]
  },
  {
   "cell_type": "code",
   "execution_count": 113,
   "metadata": {},
   "outputs": [
    {
     "data": {
      "text/plain": [
       "59.5"
      ]
     },
     "execution_count": 113,
     "metadata": {},
     "output_type": "execute_result"
    }
   ],
   "source": [
    "# find med in one sort array\n",
    "nums = [12,33,44,75,673,10000]\n",
    "def findMedian(nums):\n",
    "    if len(nums) % 2 == 1:\n",
    "        return nums[int(len(nums)/2)]\n",
    "    else:\n",
    "        return float(nums[int(len(nums)/2)-1] + nums[int(len(nums)/2)])/2\n",
    "findMedian(nums)"
   ]
  },
  {
   "cell_type": "markdown",
   "metadata": {},
   "source": [
    "### 快排"
   ]
  },
  {
   "cell_type": "code",
   "execution_count": 160,
   "metadata": {},
   "outputs": [
    {
     "name": "stdout",
     "output_type": "stream",
     "text": [
      "[24, 47, 0, 70, 44, 83, 19, 31, 20, 20, 58, 20, 78, 14, 16, 44, 48, 29, 42, 37, 18, 97, 64, 55, 20, 37, 35, 95, 50, 28]\n",
      "[0, 14, 16, 18, 19, 20, 20, 20, 20, 24, 28, 29, 31, 35, 37, 37, 42, 44, 44, 47, 48, 50, 55, 58, 64, 70, 78, 83, 95, 97]\n"
     ]
    }
   ],
   "source": [
    "import numpy as np\n",
    "need_sotrs = np.random.randint(0,100,30).tolist()\n",
    "cnt = 0\n",
    "def quick_sort(ls):\n",
    "    if not ls:\n",
    "        return []\n",
    "    pivot = ls[0]\n",
    "    less = [x for x in ls[1:] if x < pivot]\n",
    "    bigger = [x for x in ls[1:] if x >= pivot]\n",
    "    global cnt\n",
    "    cnt += 1\n",
    "    return quick_sort(less) + [pivot] + quick_sort(bigger)\n",
    "print need_sotrs\n",
    "print quick_sort(need_sotrs)"
   ]
  },
  {
   "cell_type": "code",
   "execution_count": 161,
   "metadata": {},
   "outputs": [
    {
     "name": "stdout",
     "output_type": "stream",
     "text": [
      "[0, 10, 11, 13, 15, 17, 18, 19, 25, 26, 28, 33, 43, 51, 52, 52, 55, 67, 67, 67, 69, 70, 73, 80, 83, 84, 85, 90, 92, 98]\n"
     ]
    }
   ],
   "source": [
    "import numpy as np\n",
    "need_sotrs = np.random.randint(0,100,30).tolist()\n",
    "qs = lambda xs : ((len(xs) <= 1 and [xs]) or \\\n",
    "        [ qs([x for x in xs[1:] if x < xs[0]]) + [xs[0]] + qs([x for x in xs[1:] if x >= xs[0]]) ] )[0]\n",
    "print qs(need_sotrs)"
   ]
  },
  {
   "cell_type": "code",
   "execution_count": null,
   "metadata": {},
   "outputs": [],
   "source": []
  },
  {
   "cell_type": "code",
   "execution_count": null,
   "metadata": {},
   "outputs": [],
   "source": []
  }
 ],
 "metadata": {
  "kernelspec": {
   "display_name": "Python 2",
   "language": "python",
   "name": "python2"
  },
  "language_info": {
   "codemirror_mode": {
    "name": "ipython",
    "version": 2
   },
   "file_extension": ".py",
   "mimetype": "text/x-python",
   "name": "python",
   "nbconvert_exporter": "python",
   "pygments_lexer": "ipython2",
   "version": "2.7.15"
  }
 },
 "nbformat": 4,
 "nbformat_minor": 2
}
