{
 "cells": [
  {
   "cell_type": "markdown",
   "metadata": {},
   "source": [
    "https://github.com/apachecn/awesome-algorithm/blob/master/docs/Leetcode_Solutions/Python/022._generate_parentheses.md"
   ]
  },
  {
   "cell_type": "raw",
   "metadata": {},
   "source": [
    "Given n pairs of parentheses, write a function to generate all combinations of well-formed parentheses.\n",
    "\n",
    "For example, given n = 3, a solution set is:\n",
    "\n",
    "[\n",
    "  \"((()))\",\n",
    "  \"(()())\",\n",
    "  \"(())()\",\n",
    "  \"()(())\",\n",
    "  \"()()()\"\n",
    "]"
   ]
  },
  {
   "cell_type": "markdown",
   "metadata": {},
   "source": [
    "### Backtracking题目"
   ]
  },
  {
   "cell_type": "code",
   "execution_count": 4,
   "metadata": {},
   "outputs": [],
   "source": [
    "class Solution(object):\n",
    "    def generateParenthesis(self, n):\n",
    "        \"\"\"\n",
    "        :type n: int\n",
    "        :rtype: List[str]\n",
    "        \"\"\"\n",
    "        self.res = []\n",
    "        self.singleStr('', 0, 0, n)\n",
    "        return self.res\n",
    "    def singleStr(self, s, l, r, n):\n",
    "        if l==n and r==n: self.res.append(s)\n",
    "        if l<n: self.singleStr(s+'(', l+1, r, n)\n",
    "        if r<l: self.singleStr(s+')', l, r+1, n)"
   ]
  },
  {
   "cell_type": "raw",
   "metadata": {},
   "source": [
    "如果左括号已经用完了，则不能再加左括号了。\n",
    "如果已经出现的右括号和左括号一样多，则不能再加右括号了。因为那样的话新加入的右括号一定无法匹配。"
   ]
  },
  {
   "cell_type": "raw",
   "metadata": {},
   "source": [
    "if (左右括号都已用完) {\n",
    "  加入解集，返回\n",
    "}\n",
    "//否则开始试各种选择\n",
    "if (还有左括号可以用) {\n",
    "  加一个左括号，继续递归\n",
    "}\n",
    "if (右括号小于左括号) {\n",
    "  加一个右括号，继续递归\n",
    "}"
   ]
  },
  {
   "cell_type": "code",
   "execution_count": null,
   "metadata": {},
   "outputs": [],
   "source": []
  }
 ],
 "metadata": {
  "kernelspec": {
   "display_name": "Python 2",
   "language": "python",
   "name": "python2"
  },
  "language_info": {
   "codemirror_mode": {
    "name": "ipython",
    "version": 2
   },
   "file_extension": ".py",
   "mimetype": "text/x-python",
   "name": "python",
   "nbconvert_exporter": "python",
   "pygments_lexer": "ipython2",
   "version": "2.7.15"
  }
 },
 "nbformat": 4,
 "nbformat_minor": 2
}
