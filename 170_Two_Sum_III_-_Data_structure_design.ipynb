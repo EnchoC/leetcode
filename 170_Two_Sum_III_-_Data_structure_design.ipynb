{
 "cells": [
  {
   "cell_type": "markdown",
   "metadata": {},
   "source": [
    "https://github.com/apachecn/awesome-algorithm/blob/master/docs/Leetcode_Solutions/Python/170._Two_Sum_III_-_Data_structure_design.md"
   ]
  },
  {
   "cell_type": "markdown",
   "metadata": {},
   "source": [
    "Design and implement a TwoSum class. It should support the following operations: add and find.\n",
    "----\n",
    "add - Add the number to an internal data structure.\n",
    "find - Find if there exists any pair of numbers which sum is equal to the value.\n",
    "\n",
    "Example 1:\n",
    "\n",
    "add(1); add(3); add(5);\n",
    "find(4) -> true\n",
    "find(7) -> false\n",
    "Example 2:\n",
    "\n",
    "add(3); add(1); add(2);\n",
    "find(3) -> true\n",
    "find(6) -> false"
   ]
  },
  {
   "cell_type": "code",
   "execution_count": 24,
   "metadata": {},
   "outputs": [
    {
     "name": "stdout",
     "output_type": "stream",
     "text": [
      "True\n",
      "False\n",
      "False\n"
     ]
    }
   ],
   "source": [
    "class TwoSum(object):\n",
    "\n",
    "    def __init__(self):\n",
    "        \"\"\"\n",
    "        Initialize your data structure here.\n",
    "        \"\"\"\n",
    "        self.lst = []\n",
    "        self.lookup = {}\n",
    "        \n",
    "    def add(self, number):\n",
    "        \"\"\"\n",
    "        Add the number to an internal data structure..\n",
    "        :type number: int\n",
    "        :rtype: void\n",
    "        \"\"\"\n",
    "        self.lst.append(number)\n",
    "        self.lookup[number] = self.lookup.get(number, 0) + 1\n",
    "\n",
    "    def find(self, value):\n",
    "        \"\"\"\n",
    "        Find if there exists any pair of numbers which sum is equal to the value.\n",
    "        :type value: int\n",
    "        :rtype: bool\n",
    "        \"\"\"\n",
    "        for x in self.lst:\n",
    "            if value - x in self.lst:\n",
    "                if value == x*2 and self.lookup[x] >= 2:\n",
    "                    return True\n",
    "                elif value != x*2:\n",
    "                    return True\n",
    "        return False\n",
    "    \n",
    "obj = TwoSum()\n",
    "obj.add(6)\n",
    "obj.add(3)\n",
    "obj.add(1)\n",
    "print obj.find(4)\n",
    "print obj.find(5)\n",
    "print obj.find(6)"
   ]
  },
  {
   "cell_type": "code",
   "execution_count": null,
   "metadata": {},
   "outputs": [],
   "source": []
  }
 ],
 "metadata": {
  "kernelspec": {
   "display_name": "Python 2",
   "language": "python",
   "name": "python2"
  },
  "language_info": {
   "codemirror_mode": {
    "name": "ipython",
    "version": 2
   },
   "file_extension": ".py",
   "mimetype": "text/x-python",
   "name": "python",
   "nbconvert_exporter": "python",
   "pygments_lexer": "ipython2",
   "version": "2.7.15"
  }
 },
 "nbformat": 4,
 "nbformat_minor": 2
}
